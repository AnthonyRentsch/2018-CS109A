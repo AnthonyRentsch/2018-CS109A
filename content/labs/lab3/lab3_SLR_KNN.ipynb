{
 "cells": [
  {
   "cell_type": "markdown",
   "metadata": {},
   "source": [
    "# <img style=\"float: left; padding-right: 10px; width: 45px\" src=\"https://github.com/Harvard-IACS/2018-CS109A/blob/master/content/styles/iacs.png?raw=true\"> CS109A/STAT121A Introduction to Data Science \n",
    "\n",
    "\n",
    "## Lab 3:  KNN Regression, Simple Linear Regression\n",
    "\n",
    "**Harvard University**<br>\n",
    "**Fall 2018**<br>\n",
    "**Instructors:** Pavlos Protopapas and Kevin Rader<br>\n",
    "**Material Preparation:** David Sondak, Will Claybaugh, Eleni Kaxiras.\n",
    "\n",
    "---"
   ]
  },
  {
   "cell_type": "markdown",
   "metadata": {},
   "source": [
    "####  <font color='red'> Run the cell below to properly highlight the exercises</font>"
   ]
  },
  {
   "cell_type": "code",
   "execution_count": 1,
   "metadata": {},
   "outputs": [
    {
     "data": {
      "text/html": [
       "<style>\n",
       "h1 { \n",
       "    padding-top: 25px;\n",
       "    padding-bottom: 25px;\n",
       "    text-align: left; \n",
       "    padding-left: 10px;\n",
       "    background-color: #DDDDDD; \n",
       "    color: black;\n",
       "}\n",
       "h2 { \n",
       "    padding-top: 10px;\n",
       "    padding-bottom: 10px;\n",
       "    text-align: left; \n",
       "    padding-left: 5px;\n",
       "    background-color: #EEEEEE; \n",
       "    color: black;\n",
       "}\n",
       "\n",
       "div.exercise {\n",
       "\tbackground-color: #ffcccc;\n",
       "\tborder-color: #E9967A; \t\n",
       "\tborder-left: 5px solid #800080; \n",
       "\tpadding: 0.5em;\n",
       "}\n",
       "div.theme {\n",
       "\tbackground-color: #DDDDDD;\n",
       "\tborder-color: #E9967A; \t\n",
       "\tborder-left: 5px solid #800080; \n",
       "\tpadding: 0.5em;\n",
       "\tfont-size: 18pt;\n",
       "}\n",
       "p.q1 { \n",
       "    padding-top: 5px;\n",
       "    padding-bottom: 5px;\n",
       "    text-align: left; \n",
       "    padding-left: 5px;\n",
       "    background-color: #EEEEEE; \n",
       "    color: black;\n",
       "}\n",
       "header {\n",
       "   padding-top: 35px;\n",
       "    padding-bottom: 35px;\n",
       "    text-align: left; \n",
       "    padding-left: 10px;\n",
       "    background-color: #DDDDDD; \n",
       "    color: black;\n",
       "}\n",
       "</style>\n",
       "\n"
      ],
      "text/plain": [
       "<IPython.core.display.HTML object>"
      ]
     },
     "execution_count": 1,
     "metadata": {},
     "output_type": "execute_result"
    }
   ],
   "source": [
    "#RUN THIS CELL \n",
    "import requests\n",
    "from IPython.core.display import HTML\n",
    "styles = requests.get(\"https://raw.githubusercontent.com/Harvard-IACS/2018-CS109A/master/content/styles/cs109.css\").text\n",
    "HTML(styles)"
   ]
  },
  {
   "cell_type": "markdown",
   "metadata": {},
   "source": [
    "# Table of Contents\n",
    "<ol start=\"1\">\n",
    "  <li> Array creation and reshape</li>\n",
    "  <li> Some plotting\n",
    "  <li> Simple linear regression  </li>\n",
    "  <li> $k$-nearest neighbors</li>\n",
    "</ol>"
   ]
  },
  {
   "cell_type": "markdown",
   "metadata": {},
   "source": [
    "## Learning Goals\n",
    "\n",
    "Overall description and goal for the lab.\n",
    "\n",
    "By the end of this lab, you should be able to:\n",
    "* Understand array reshaping\n",
    "* Review how to make plots\n",
    "* Feel comfortable with simple linear regression\n",
    "* Feel comfortable with $k$ nearest neighbors\n",
    "\n",
    "**This lab corresponds to lecture 4 and maps on to homework 2 (and beyond).**"
   ]
  },
  {
   "cell_type": "code",
<<<<<<< HEAD
   "execution_count": 2,
=======
   "execution_count": 8,
>>>>>>> 3146e82765cbe3553c5d561769df449ac62ad15b
   "metadata": {},
   "outputs": [],
   "source": [
    "# import the necessary libraries\n",
    "import warnings\n",
    "warnings.filterwarnings('ignore')\n",
    "%matplotlib inline\n",
    "import numpy as np\n",
    "import scipy as sp\n",
    "import matplotlib as mpl\n",
    "import matplotlib.cm as cm\n",
    "import matplotlib.pyplot as plt\n",
    "import pandas as pd\n",
    "import time\n",
    "pd.set_option('display.width', 500)\n",
    "pd.set_option('display.max_columns', 100)\n",
    "pd.set_option('display.notebook_repr_html', True)\n",
    "import seaborn as sns"
   ]
  },
  {
   "cell_type": "markdown",
   "metadata": {},
   "source": [
    "## Simple Linear Regression\n",
    "Linear regression and its many extensions are a workhorse of the statistics and data science community, both in application and as a reference point for other models. Most of the major concepts in machine learning can be and often are discussed in terms of various linear regression models. Thus, this section will introduce you to building and fitting linear regression models and some of the process behind it, so that you can 1) fit models to data you encounter 2) experiment with different kinds of linear regression and observe their effects 3) see some of the technology that makes regression models work.\n",
    "\n",
    "\n",
    "### Linear regression with a toy dataset\n",
    "We first examine a toy problem, focusing our efforts on fitting a linear model to a small dataset with three observations.  Each observation consists of one predictor $x_i$ and one response $y_i$ for $i = 1, 2, 3$,\n",
    "\n",
    "\\begin{align*}\n",
    "(x , y) = \\{(x_1, y_1), (x_2, y_2), (x_3, y_3)\\}.\n",
    "\\end{align*}\n",
    "\n",
    "To be very concrete, let's set the values of the predictors and responses.\n",
    "\n",
    "\\begin{equation*}\n",
    "(x , y) = \\{(1, 2), (2, 2), (3, 4)\\}\n",
    "\\end{equation*}\n",
    "\n",
    "There is no line of the form $\\beta_0 + \\beta_1 x = y$ that passes through all three observations, since the data are not collinear. Thus our aim is to find the line that best fits these observations in the *least-squares sense*, as discussed in lecture."
   ]
  },
  {
   "cell_type": "markdown",
   "metadata": {},
   "source": [
    "<div class=\"exercise\"><b>Exercise (10 min)</b></div>\n",
    "\n",
    "* Make two numpy arrays out of this data, x_train and y_train\n",
    "* Check the dimentions of these arrays\n",
    "* Try to reshape them into a different shape\n",
    "* Make points into a very simple scatterplot\n",
    "* Make a better scatterplot"
   ]
  },
  {
   "cell_type": "code",
<<<<<<< HEAD
   "execution_count": 4,
=======
   "execution_count": 28,
>>>>>>> 3146e82765cbe3553c5d561769df449ac62ad15b
   "metadata": {},
   "outputs": [
    {
     "data": {
      "text/plain": [
       "numpy.ndarray"
      ]
     },
     "execution_count": 28,
     "metadata": {},
     "output_type": "execute_result"
    }
   ],
   "source": [
<<<<<<< HEAD
    "x_train = np.array([1,2,3])\n",
    "y_train = np.array([2,2,4])"
=======
    "# your code here\n",
    "x_train = np.array([1,2,3])\n",
    "y_train = np.array([2,3,6])\n",
    "type(x_train)"
>>>>>>> 3146e82765cbe3553c5d561769df449ac62ad15b
   ]
  },
  {
   "cell_type": "code",
<<<<<<< HEAD
   "execution_count": 8,
   "metadata": {},
   "outputs": [
    {
     "name": "stdout",
     "output_type": "stream",
     "text": [
      "(3,)\n"
     ]
    },
    {
     "data": {
      "text/plain": [
       "(3,)"
      ]
     },
     "execution_count": 8,
     "metadata": {},
     "output_type": "execute_result"
    }
   ],
   "source": [
    "print(x_train.shape)\n",
    "y_train.shape"
   ]
  },
  {
   "cell_type": "code",
   "execution_count": 17,
=======
   "execution_count": 12,
>>>>>>> 3146e82765cbe3553c5d561769df449ac62ad15b
   "metadata": {},
   "outputs": [
    {
     "data": {
      "text/plain": [
<<<<<<< HEAD
       "array([[1],\n",
       "       [2],\n",
       "       [3]])"
      ]
     },
     "execution_count": 17,
=======
       "(3,)"
      ]
     },
     "execution_count": 12,
>>>>>>> 3146e82765cbe3553c5d561769df449ac62ad15b
     "metadata": {},
     "output_type": "execute_result"
    }
   ],
   "source": [
<<<<<<< HEAD
    "x_train.reshape(3,1)"
=======
    "x_train.shape"
>>>>>>> 3146e82765cbe3553c5d561769df449ac62ad15b
   ]
  },
  {
   "cell_type": "code",
<<<<<<< HEAD
   "execution_count": 21,
=======
   "execution_count": 14,
>>>>>>> 3146e82765cbe3553c5d561769df449ac62ad15b
   "metadata": {},
   "outputs": [
    {
     "data": {
      "text/plain": [
<<<<<<< HEAD
       "array([[1, 2, 3],\n",
       "       [2, 2, 4]])"
      ]
     },
     "execution_count": 21,
=======
       "(3, 1)"
      ]
     },
     "execution_count": 14,
     "metadata": {},
     "output_type": "execute_result"
    }
   ],
   "source": [
    "x_train = x_train.reshape(3,1)\n",
    "x_train.shape"
   ]
  },
  {
   "cell_type": "code",
   "execution_count": 15,
   "metadata": {},
   "outputs": [
    {
     "data": {
      "text/plain": [
       "(2, 3)"
      ]
     },
     "execution_count": 15,
     "metadata": {},
     "output_type": "execute_result"
    }
   ],
   "source": [
    "xx = np.array([[1,3,5],[6,2,1]])\n",
    "xx.shape"
   ]
  },
  {
   "cell_type": "code",
   "execution_count": 18,
   "metadata": {},
   "outputs": [
    {
     "data": {
      "text/plain": [
       "array([[1, 3],\n",
       "       [5, 6],\n",
       "       [2, 1]])"
      ]
     },
     "execution_count": 18,
>>>>>>> 3146e82765cbe3553c5d561769df449ac62ad15b
     "metadata": {},
     "output_type": "execute_result"
    }
   ],
   "source": [
<<<<<<< HEAD
    "xy = np.array([[1,2,3],[2,2,4]])\n",
    "xy"
=======
    "xx = xx.reshape(3,-1)\n",
    "xx"
>>>>>>> 3146e82765cbe3553c5d561769df449ac62ad15b
   ]
  },
  {
   "cell_type": "code",
<<<<<<< HEAD
   "execution_count": 22,
   "metadata": {},
   "outputs": [
    {
     "data": {
      "text/plain": [
       "array([[1, 2],\n",
       "       [3, 2],\n",
       "       [2, 4]])"
      ]
     },
     "execution_count": 22,
     "metadata": {},
     "output_type": "execute_result"
    }
   ],
   "source": [
    "xy.reshape(3,2)"
   ]
  },
  {
   "cell_type": "code",
   "execution_count": 10,
   "metadata": {},
   "outputs": [
    {
     "data": {
      "text/plain": [
       "<matplotlib.collections.PathCollection at 0x1a1f4005f8>"
      ]
     },
     "execution_count": 10,
     "metadata": {},
     "output_type": "execute_result"
    },
    {
     "data": {
      "image/png": "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\n",
      "text/plain": [
       "<Figure size 432x288 with 1 Axes>"
      ]
     },
     "metadata": {},
     "output_type": "display_data"
    }
   ],
   "source": [
    "plt.scatter(x=x_train,y=y_train)"
   ]
  },
  {
   "cell_type": "code",
   "execution_count": 37,
   "metadata": {},
   "outputs": [
    {
     "data": {
      "text/plain": [
       "<matplotlib.legend.Legend at 0x1a1f744978>"
      ]
     },
     "execution_count": 37,
     "metadata": {},
     "output_type": "execute_result"
    },
    {
     "data": {
      "image/png": "iVBORw0KGgoAAAANSUhEUgAAAY4AAAEWCAYAAABxMXBSAAAABHNCSVQICAgIfAhkiAAAAAlwSFlzAAALEgAACxIB0t1+/AAAADl0RVh0U29mdHdhcmUAbWF0cGxvdGxpYiB2ZXJzaW9uIDIuMi4yLCBodHRwOi8vbWF0cGxvdGxpYi5vcmcvhp/UCwAAIABJREFUeJzt3X2cZFV95/HPr6qrq6tnkEFABQYdWB+CSBBo0QhJkKCgiUJco7iRxazKy2xkzWrYFXcXdZRoYmJcd5OQSTBgggrhSdYVgSwQQxCwh6cZGFFkNAwDQjMMMNNV1V1dv/3j3lvcqb5Vfe9MV/Vh5vt+verVVbfOrfPte27VqftQ95i7IyIikldpqQOIiMjzizoOEREpRB2HiIgUoo5DREQKUcchIiKFqOMQEZFC1HGIFGBmPzWzk4ZU1+fMbMrMHhtGfQtkOcHMNi11DgmDOg4ZODM73sxuNbOnzWyLmf2Lmb1uF1/z/WZ2S9e0i8zsc7uWdnHs6getmR0MfBx4tbu/ZPGSDV5W28juZWSpA8juzcxeAHwb+F3gMmAU+GWguZS5spjZiLu3ljpH7GXAk+7++KArCuz/lucDd9dNt4HdgAlg6wJlPgRsAJ4F7geOjqd/AvhJavpvxtMPAxrAHLAN2AqcBcwCM/G0/xOXPRC4AngC2Aj8p1S9nwYuB/4eeAb4YGrapXG9dwJHpub5KXBSfL8KfBnYHN++HE9bBtSBdpxlG3Bgxv+9N/C1ONvPgP9OtBfgpK75L+qz3B4EtgDXJHUAqwAHRlJlbwY+GN9/P/AvwJ/F834u47VrwEXAU/GyPwfYlHo+d9vE038duCtezg8Dn17qdVO3nb8teQDddu8b8ALgSeBi4K3APl3P/xbwCPA6wICXAy9LPXdg/GH6HmA7cED83PuBW7pe66L0h2A831rgPKItnUOBh4CT4+c/TdTZnBaXraWmvQuoAH9A1OFU4nnSHcdq4DbgRcD+wK3AZ+PnTkh/0PZYNl8DvgXsFX/Y/wj4QJ75gROBKeBoos7qfwHfi5/L03G0gLOJ9jrUMl7/C8A/Ay8EDgbWd3UcRdvmBOCIuPwvAj8HTlvq9VO3nbvpGIcMlLs/AxxP9EH218ATZnaNmb04LvJB4I/d/QceedDdfxbP+w/uvtnd2+5+KfBj4NgC1b8O2N/dV7v7jLs/FGc4PVXm++5+dVxHPZ621t0vd/dZ4EvAGPCGjNf/bWC1uz/u7k8AnwHOyBPMzMpEH7jnuvuz7v5T4E/zzh/X/VV3v9Pdm8C5wC+Z2aqc82929//l7q3U/532buB8d9/i7g8DX0k/WbRt3P1md18Xl78X+AbwqzmzSmDUccjAufsGd3+/u68EXkP0TfXL8dMHE+3ymMfM/r2Z3W1mW81sazzvfgWqfhlwYDJ//BqfBF6cKvNwxnydae7eBjbFmbsdSLSLKfGzHuWy7Ee0FdQ9/0E559+hbnffRrRll3f+rP+7+/XTZdI5C7eNmb3ezG4ysyfM7Gngw/3KS9jUcchQufsPiXYpvSae9DDwb7rLmdnLiLYOPgLs6+4riHaXWPJSWS/f9fhhYKO7r0jd9nL3t/WZB6LOLMlRAlYSHcPotpmoc0q8NFVuoctOTxHtEuue/5EF5sus28yWAfvG82+PJ4+nynefmbVQvkdJLYc4W1LXzrTN14mOwxzs7nsDF6TKy/OMOg4ZKDP7BTP7uJmtjB8fDLyX6NgAwN8Af2Bmx1jk5fEH0zKiD6An4vl+h+c6G4j2ka80s9GuaYemHt8BPGNm/9XMamZWNrPX5DgV+Bgze6eZjQC/T3QG2G0Z5b4B/Hcz29/M9iM6lvL3qSz7mtneWRW4+xzRWWbnm9le8f/8sdT8C/k68Dtm9lozqwJ/CNzu7j+Nd5s9Arwv/p//Axmd8wIuA841s33itjs79dzOtM1ewBZ3b5jZscC/K5hHAqKOQwbtWeD1wO1mtp3oA3g90W8UcPd/AM4n+iB8FrgaeKG730+0z//7RB9ERxCdCZS4EbgPeMzMpuJpFwKvjnefXB1/OL8deC3RAe4poo4q88M85VtExx+eIjrm8M74eEe3zwGTwL3AOqIzsD4X/18/JOpYHorzZO3COpto6+Ah4JZ4GXx1gWzEr///gP9BdMbYo0QdQ/rYzYeIzoR6Ejic6MB9EZ8h2j21Ebge+LtU3TvTNv8RWG1mzxJ1sJcVzCMBMXcN5CSSMLNPAy939/ctdRaRUGmLQ0REClHHISIihWhXlYiIFKItDhERKWS3vMjhfvvt56tWrdqpedvtNgClUlh9qnLlF2ImUK4iQswEu3eutWvXTrn7/nnK7pYdx6pVq5icnNypebdvj347tWzZssWMtMuUK78QM4FyFRFiJti9c5nZzxYuFQmr2xQRkeCp4xARkUJ2y11Vu6JcLi91hEzKlV+ImUC5iggxEyhXYo/pOGZnZ9m0aRONRmOpowzF2NgYK1eupFKpDLye0ISYCZSriBAzgXIl9piOY9OmTey1116sWrUKs937opzuzpNPPsmmTZs45JBDljqOiOxm9phjHI1Gg3333XfBTqPdbndObQtJkVxmxr777juUrauZmRlmZmYGXk8RIWYC5SoixEygXImhdRzx5Z3vMrNvZzxXNbNLzexBM7s9PYqZmZ0bT3/AzE7exQwLlkmGRgxN0VzD2qqanZ1ldjbrwrFLJ8RMoFxFhJgJlCsxzF1VHwU2EI1B3e0DwFPu/nIzOx34I+A9ZvZqoktFH040Itk/mtkr48tli4js8a6+6xHW3LiBnz/TYKw2zjknv4rTjso7EOTOGcoWRzwQzK8TjYWQ5VTg4vj+5cCvWfSV+VTgm+7edPeNwIMUG3NaRGS3dfVdj3Dulet47JkGDjyytc65V67j6rvyDiS5c4a1xfFl4L8QjQKW5SDi8Y3dvRWPSbxvPD098tomcoyp3G63O7+kTE9rt9udn+S32+3MXT/u3tnN06sMRD/tNzPcveexh6QMwNxc9kaSmS2YKb3bKU99SZms5TA6Oto506per2e+Vrlc7pylMTMzk7kJbGaMj493/rfuehJjY2OdUwV7lalUKoyORoPFNRqNzGVVKpWo1WpAtFnea39ukinrf09Uq1VGRqJVv9cyGBkZoVqtAtBsNmm1Wn0ztVotms1mZn21Wo1SqYS79zzutFjtAs/9enhubq5nfel2qdfrmWUWu13MjHa73bO+dLs0Go3M90K6XfKsm3nbZXp6OrNMul0ajUZm9nS79FsGRdtleno6cxmk2+XP/3EDtVKLFaPpci3+8v9t6Gx15GmXorvnB77FYWa/ATzu7mv7FcuY5n2mZ9VzlplNmtnk1NRUVpEgrFmzhpUrV3LMMcdw9NFH8+53v5uNGzf2nWfTpk1cdpkGTBORHT32dHYH9PNnBntizDC2OI4D3mFmbwPGgBeY2d93jbC2CTgY2BSP87w3sCU1PbES2JxVibuvAdYATExMePc1W0ql0g4XAOt1MbD0t6o8Fwwzs1w/vknKrF+/ntWrV/OhD30IgAsuuIB3vvOd3HnnnT3ru+mmm1i/fj3vfve7c9WXlCmVSn2vXZN8U+xndHS08+2mV10jIyOdb3j95LmOTp7z0SuVSt/fpyT/f55MeZZBtVrtfMvtZWRkpPNtuZdSqcT4+PiCuRajXSBa5/Is8yRPv1yL0S7AgutkIlkG/TLlWQZ52sXMcq+byZZgr1x5lkHRdunnBcvHeWTrc1tBW5rRd+2DVjy3DuXJVPRkmoFvcbj7ue6+0t1XER3ovjFjWM5rgDPj+++Ky3g8/fT4rKtDgFcAdwwyb7lcplwuc/Vdj3DcF27kkE/8X477wo2Lts9w3bp1vOY1r+k8/vCHP8xjjz3Gww8/zOWXX84b3vAGjjzySI4//nieeOIJbrnlFj72sY9x5ZVXcswxx7Bx48bMckslzwfhsIWYCZSriBAzQXi5zjn5VdQqZbY0rdNp1Cplzjn5VQOtd8l+x2Fmq83sHfHDC4F9zexB4GPAJwDc/T6iQe3vB74L/N4wzqhKDjg9srW+6Aec1q9fz+GHH77DtFqtxlNPPcWb3vQmbrvtNu655x7e/OY3c9lll3H88cfzute9jm9961vcfffdHHLIIZnlRGTPc9pRB/H5dx7BQStqGNGWxuffecTAz6oa6i/H3f1m4Ob4/nmp6Q3gt3rMcz5w/hDiJfXxxet+SH12x/6pPjvHF697YJca5OGHH2avvfbiBS947ozk2dlZHn30UQ499FDWrFnDpZdeSrPZ5LHHHuMP//APAXjggQd45Stf2Tlwf9FFF2WWWwrJrr2QruETYiZQriJCzARh5jrtqIN4+y++BBherj3mkiN5tdttNm/NPrC0eWv22SB53XvvvfO2Nv72b/+WE088kauuuoo77riDG2+8keXLl/Mrv/IrHH744Tz55JPsvffelMtl2u02l1xySWa5pZKcHRLS+AQhZgLlKiLETKBciT3mkiNFHLAi+0DggSsWPmjZT/fxjeuvv57Pf/7z/Mmf/Anr1q3jjW98I8uXL+eKK67g1ltv5YgjjmDjxo0ceOCBO7xGVjkRkWFRx5HhD978SmqVHTf5FuOA07p167jkkks6p+JefPHFfPe73+Wwww7jzDPP5Ctf+Qq//Mu/zI9+9CMOPfRQli1bxi/8wi8wNTXFkUceya233tqznIjIsFiI12XaVRMTE949dOyGDRs47LDDFpw32Yf5f+59jC9e9wCbt9Y5cEVtKD/jz5OryD7MvP/zrghxKM0QM4FyFRFiJti9c5nZWnefyFNWxzh6OO2og5a0oxARCZV2VYmISCF71BZH+jpUveT5tfhSKJprWLsgQxwRLcRMoFxFhJgJlCuxx3QcY2NjPPnkkwsO5hTq6IBFciUjAA5jZQrpfPZEiJlAuYoIMRMoV2KP6ThWrlzJpk2blvTyHMOUjDkuIrLY9piOo1Kp5Bp/e3c+a2IQQswVYiZQriJCzATKlQhzh76IiARLHYeIiBSijkNERApRxyEiIoWo4xARkUL2mLOq8lpoiMWlolz5hZgJlKuIEDOBciUG3nGY2RjwPaAa13e5u3+qq8yfAW+KH44DL3L3FfFzc8C6+Ll/dfd3MEALjWG8VJQrvxAzgXIVEWImUK7EMLY4msCJ7r7NzCrALWZ2rbvflhRw9/+c3Dezs4GjUvPX3f21Q8gpIiI5DLzj8OiiSdvih5X41u9CSu8FPtXn+QW12+3OD2LSRkdHO5t0jUajc6nytFarRbVaZWxsjNnZWWZmZjLrGB8fx8xot9vU69kjA1arVUZGokU8PT2def2oSqXS+bbQbDZptVrzypRKpc4lR0ZGRmg2m5n11Wo1SqUS7s709HRmmfQyqNfrtNvteWXK5XLnciUzMzPMzs7OK2NmjI+P91yOibGxsc7lELLaBHZcBr1er1QqUatFA2kt1C7NZpN2u93zel3pdum1DEZGRqhWq0D/dkkytVqtBdulXq9Tr9c7r5u2WO0Cz/0IbG5urjMyXLd0uzz11FO4+7xci90uRd4vW7dupd1uz8uUbpeF1k3I1y553y+NRqNTLp0r3S79lkHRdinymZH8j0muou1S9Np2Qzk4bmZlM7sbeBy4wd1v71HuZcAhwI2pyWNmNmlmt5nZaX3qOCsuNzk1NbXTWefm5vp+EC4V5covxEwQ5crqEJZaiLlCzATRl1LlGvJATma2ArgKONvd12c8/1+Ble5+dmrage6+2cwOJepQfs3df9KvnqyBnPLSJQWKCTFXiJlAuYoIMRPs3rmKDOQ01NNx3X0rcDNwSo8ipwPf6Jpnc/z3oXjeo+bPJiIiwzLwjsPM9o+3NDCzGnAS8MOMcq8C9gG+n5q2j5lV4/v7AccB9w86s4iI9DaMs6oOAC42szJRR3WZu3/bzFYDk+5+TVzuvcA3fcd9Z4cBf2Vm7XjeL7i7Og4RkSU0jLOq7iVj95K7n9f1+NMZZW4FjhhYuAy7ywiAwxJirhAzgXIVEWImUK6EfjneJTmFLTTKlV+ImUC5iggxEyhXIszuU0REgqWOo8vs7GzPH1YtJeXKL8RMoFxFhJgJlCuhXVVdkl9YhnYxM+XKL8RMoFxFhJgJlCuhLQ4RESlEHYeIiBSijkNERApRxyEiIoWo4xARkUJ0VlWX5Dr+oVGu/ELMBMpVRIiZQLkS6ji6JAMmhUa58gsxEyhXESFmAuVKaFdVFw3UUkyIuULMBMpVRIiZQLkS6ji6JMN7hka58gsxEyhXESFmAuVKqOMQEZFC1HGIiEghwxgBcMzM7jCze8zsPjP7TEaZ95vZE2Z2d3z7YOq5M83sx/HtzEHnFRGR/oZxVlUTONHdt5lZBbjFzK5199u6yl3q7h9JTzCzFwKfAiYAB9aa2TXu/tQQcouISIZhjADowLb4YSW+ee85dnAycIO7bwEwsxuAU4Bv9Jup3W6zffv2edNHR0c7V49sNBrMzc3NK9NsNqlWq0B0qeLkqpPdxsfHMTPa7XbPg1LVapWRkWgRT09Ps+OouJFKpcLo6Gin7larNa9MenSvVqtFs9nMrK9Wq1EqlXB3pqenM8ukl0G9Xs88E6NcLjM2NgZEV93MulyzmXXOHZ+bm8tc3gBjY2OUy2WAnmXSy6BXu5RKpc5gNQu1C/ReB2DHdum1DEZGRjrrQb92STLlbZdGo5FZZrHaBWDZsmVA1C696ku3S6/1d7Hbpcj7pdFoZL5f0u2SZ91czPdLo9HIzJ5ul37LoGi7FPnM6M5VtF2y6ulnKMc4zKxsZncDjxN1BLdnFPu3ZnavmV1uZgfH0w4CHk6V2RRPy6rjLDObNLPJqampnc46OjraWTFDUq1WlSunEDNBlCt5w4dkdHQ0uFwhZgLlSljRnmaXKjNbAVwFnO3u61PT9wW2uXvTzD4MvNvdTzSzc4Cqu38uLvc/gGl3/9N+9UxMTPjk5OTg/hERkd2Mma1194k8ZYd6VpW7bwVuJtrdlJ7+pLsn25N/DRwT398EHJwquhLYPOCYIiLSxzDOqto/3tLAzGrAScAPu8ockHr4DmBDfP864C1mto+Z7QO8JZ42MPqBTzEh5goxEyhXESFmAuVKDOOsqgOAi82sTNRRXebu3zaz1cCku18D/CczewfQArYA7wdw9y1m9lngB/FrrU4OlA9KiJcTAOUqIsRMoFxFhJgJlCsxjLOq7gWOyph+Xur+ucC5Peb/KvDVgQUUEZFC9MtxEREpRB2HiIgUoo5DREQK0UBOXZJfroZGufILMRMoVxEhZgLl6tQ31NqeB0L8xTEoVxEhZgLlKiLETKBcCe2qEhGRQtRxdGk2mz0viraUlCu/EDOBchURYiZQroQ6ji6tVivzSqhLTbnyCzETKFcRIWYC5Uqo4xARkULUcYiISCHqOEREpBB1HCIiUoh+x9ElPUxrSJQrvxAzgXIVEWImUK6EOo4uyTi9oVGu/ELMBMpVRIiZQLkSYXafIiISLHUcXXSedjEh5goxEyhXESFmAuVKDHxXlZmNAd8DqnF9l7v7p7rKfAz4INEIgE8A/8HdfxY/Nwesi4v+q7u/Y5B5k19fhnYxM+XKL8RMoFxFhJgJlCsxjFqawInuvs3MKsAtZnatu9+WKnMXMOHu02b2u8AfA++Jn6u7+2uHkFNERHIYxtCxDmyLH1bim3eVuSn18DbgfbtSZ7vdZvv27fOmj46OUqlUAGg0GszNzc0r02w2O1eanJ2dZWZmJrOO8fFxzIx2u91zkPhqtdr5BjA9PU20KHZUqVQYHR3t1J21uZk+Y6LVavW8Jk2tVqNUKuHuTE9PZ5ZJL4N6vZ45VnG5XGZsbAyAmZkZZmdn55UxM8bHxwGYm5vLXN4AY2NjlMtlgJ5l0sugV7uUSqXOAcCF2gV6rwOwY7v0WgYjIyOd9aBfuySZ8rZLo9HILLNY7QKwbNkyIGqXXvWl26XX+rvY7VLk/dJoNDLfL+l2ybNuLub7pdFoZGZPt0u/ZVC0XYp8ZnTnKtouWfX0M5RjHGZWNrO7gceBG9z99j7FPwBcm3o8ZmaTZnabmZ3Wp46z4nKTU1NTi5RcRES6WdGeZpcqM1sBXAWc7e7rM55/H/AR4FfdvRlPO9DdN5vZocCNwK+5+0/61TMxMeGTk5M7lTH5lpp8OwiFcuUXYiZQriJCzAS7dy4zW+vuE3nKDvWsKnffCtwMnNL9nJmdBPw34B1JpxHPszn++1A871HDyCoiItmGcVbV/sCsu281sxpwEvBHXWWOAv4KOMXdH09N3weYdvemme0HHEd04Hxg9AOfYkLMFWImUK4iQswEypUYxllVBwAXm1mZaAvnMnf/tpmtBibd/Rrgi8By4B/MDJ477fYw4K/MrB3P+wV3v3+QYXVJgWJCzBViJlCuIkLMBMqVGMZZVfeSsXvJ3c9L3T+px7y3AkcMLl1mnUB0ZkZIlCu/EDOBchURYiZQrkSY3ecSmp6e7nlq3lJSrvxCzATKVUSImUC5Euo4RESkEHUcIiJSiDoOEREpRB2HiIgUoo5DREQKCevawAFILh4WGuXKL8RMoFxFhJgJlCuhjqNLciXM0ChXfiFmAuUqIsRMoFwJ7aoSEZFC1HF0qdfrPccLWErKlV+ImUC5iggxEyhXQruqumQNoBMC5covxEygXEWEmAmUK6EtDhERKUQdh4iIFKKOQ0REClHHISIihQy84zCzMTO7w8zuMbP7zOwzGWWqZnapmT1oZreb2arUc+fG0x8ws5MHnbdcLlMulwddTWHKlV+ImUC5iggxEyhXYhhnVTWBE919m5lVgFvM7Fp3vy1V5gPAU+7+cjM7nWho2feY2auB04HDgQOBfzSzV7r73KDCjo2NDeqld4ly5RdiJlCuIkLMBMqVWLDjMLN/BD7u7vfsTAUeDU21LX5YiW/eVexU4NPx/cuB/23RUFanAt909yaw0cweBI4Fvt+vzna7zfbt2+dNHx0d7fzCstFoMDc3v/8pl8udRpidnWVmZiazjvHxccyMdrvd8/zparXKyEi0iKenpzujdKVVKpXO5QKazSatVmtemVKp1BlTuNVq0Ww2M+ur1WqUSiXcveegLullUK/XM0/jSy+DmZkZZmdn55UxM8bHxwGYm5uj0Whk1jc2Ntb5JpTVJrDjMujVLullsJjt0msZjIyMUK1WgedXuwAsW7YMyN8uedbNENslz7q5mO2yq58Zg2iXPOtmnnbJqqefPLuq/gvwZ2b2t2Z2QKFXj5lZ2czuBh4HbnD327uKHAQ8DODuLeBpYN/09NimeFpWHWeZ2aSZTU5NTe1MTCBaGXst5KWkXPmFmAn6f9gvpRBzhZgJog9h5QLL29OY2b8FzgOuBP7Y3Qv/TNHMVgBXAWe7+/rU9PuAk919U/z4J0RbFquB77v738fTLwS+4+5X9KtnYmLCJycni8YDnvtWnHw7CIVy5RdiJlCuIkLMBLt3LjNb6+4TecrmOjge7zZ6APhL4Gzgx2Z2RtFg7r4VuBk4peupTcDBcV0jwN7AlvT02Epgc9F6RURk8SzYcZjZLcAjwJ8R7SZ6P3ACcKyZrckx//7xlgZmVgNOAn7YVewa4Mz4/ruAG+NjI9cAp8dnXR0CvAK4Y+F/S0REBiXPWVUfBu7z+fu0zjazDTnmPwC42MzKRB3VZe7+bTNbDUy6+zXAhcDfxQe/txCdSYW732dmlwH3Ay3g9wZ5RpWIiCxswY4jfSwiw6/nmP9e4KiM6eel7jeA3+ox//nA+QvVIyIiw7FLPwB094cWK4iIiDw/6LLqXUI7WyKhXPmFmAmUq4gQM4FyJXStKhERKUQdR5e5ubnMX4cuNeXKL8RMoFxFhJgJlCuhjqNLo9HoeTmApaRc+YWYCZSriBAzgXIl1HGIiEgh6jhERKQQdRwiIlKIOg4RESlEHYeIiBSiHwB20QhfxYSYK8RMoFxFhJgJlCuhjqNLiOMJg3IVEWImUK4iQswEypXQrioRESlEHUeX6enpnuMPLyXlyi/ETKBcRYSYCZQroV1VXYoO2j4sypVfiJlAuYoIMRMoV2LgHYeZHQx8DXgJ0AbWuPv/7CpzDvDbqUyHAfu7+xYz+ynwLDAHtPKOiSsiIoMxjC2OFvBxd7/TzPYC1prZDe5+f1LA3b8IfBHAzN4O/Gd335J6jTe5+9QQsoqIyAIG3nG4+6PAo/H9Z+PhZg8iGg42y3uBb+xKne12m+3bt8+bPjo6SqVSAaKLgmVdTbLZbFKtVgGYnZ1lZmYms47x8XHMjHa7Tb1ezyxTrVYZGYkW8fT0dObmZKVSYXR0tFN3q9WaV6ZUeu5QVKvVotlsZtZXq9UolUq4e8/9nellUK/Xabfb88qUy+XO6X0zMzPMzs7OK2NmjI+PA9GVObOWN0SnCSZnfPQqk14GvdqlVCpRq9WAhdsFeq8DsGO79FoGIyMjnfWgX7skmfK2S68L0S1Wu8BzYzPMzc31rC/dLr3W38VulyLvl0ajkfl+SbdLnnVzMd8vjUYjM3u6Xfotg6LtUuQzoztX0XYpuqtrqAfHzWwV0TCyt/d4fhw4BbgiNdmB681srZmd1ee1zzKzSTObnJrSxomIyKDYsA6qmNly4J+A8939yh5l3gO8z93fnpp2oLtvNrMXATcAZ7v79/rVNTEx4ZOTkzuVM+mZkx49FMqVX4iZQLmKCDET7N65zGxt3mPIQzmryswqRFsRl/TqNGKn07Wbyt03x38fN7OrgGOBvh3HrghthUgoV34hZgLlKiLETKBciYHvqjIzAy4ENrj7l/qU2xv4VeBbqWnL4gPqmNky4C3A+sEmFhGRfoaxxXEccAawzszujqd9EngpgLtfEE/7TeB6d08f0XwxcFXU9zACfN3dvzvIsMlBq9CuSaNc+YWYCZSriBAzgXIlhnFW1S2A5Sh3EXBR17SHgCMHEqyHEMcTBuUqIsRMoFxFhJgJlCuhS46IiEgh6jhERKQQdRwiIlKIOg4RESlEV8ftkr68R0iUK78QM4FyFRFiJlCuhDqOLsn1XUKjXPmFmAmUq4gQM4FyJcLsPkVEJFjqOLrMzs72vOroUlKu/ELMBMpVRIiZQLnTGTiOAAARVElEQVQS2lXVJblYWHIp5VAoV34hZgLlKiLETKBcCW1xiIhIIeo4RESkEHUcIiJSiDoOEREpRB2HiIgUorOquiSD3IdGufILMRMoVxEhZgLlSqjj6BIPGhUc5covxEygXEWEmAmUKzGMoWMPNrObzGyDmd1nZh/NKHOCmT1tZnfHt/NSz51iZg+Y2YNm9olB522327Tb7UFXU5hy5RdiJlCuIkLMBMqVGMYWRwv4uLvfGY8fvtbMbnD3+7vK/bO7/0Z6gpmVgT8H3gxsAn5gZtdkzLto6vU6AMuWLRtUFTtFufILMRMoVxEhZgLlSgxj6NhHgUfj+8+a2QbgICDPh/+xwIPxELKY2TeBUxeat91us3379nnTR0dHO7+sbDQamcMtNptNqtUqEP2MP/lFZrfx8XHMjHa73Wm0btVqlZGRaBFPT0/j7vPKVCoVRkdHO3W3Wq15ZdJXvmy1WjSbzcz6arUapVIJd2d6ejqzTHoZ1Ov1zG8p5XK5M3bxzMxM5qUMzKyzX3Vubi5zeUM0BnK5XAboWSa9DHq1S6lU6lzIbaF2gd7rAOzYLr2WwcjISGc96NcuSaa87ZKMDd1tsdoFnvvwmJub61lful16rb+L3S5F3i+NRiPz/ZJulzzr5mK+XxqNRmb2dLv0WwZF26XIZ0Z3rqLtklVPP0M9q8rMVgFHAbdnPP1LZnaPmV1rZofH0w4CHk6V2RRPy3rts8xs0swmp6amFjG1iIikWdGeZqcrMlsO/BNwvrtf2fXcC4C2u28zs7cB/9PdX2FmvwWc7O4fjMudARzr7mf3q2tiYsInJyd3KmfyLTW0TVHlyi/ETKBcRYSYCXbvXGa21t0n8pQdyhaHmVWAK4BLujsNAHd/xt23xfe/A1TMbD+iLYyDU0VXApuHEFlERHoYxllVBlwIbHD3L/Uo85K4HGZ2bJzrSeAHwCvM7BAzGwVOB64ZdGYREeltGGdVHQecAawzs7vjaZ8EXgrg7hcA7wJ+18xaQB043aN9aC0z+whwHVAGvuru9w0ybHLgLTTKlV+ImUC5iggxEyhXYmjHOIZpV45xiIjsiYI7xiEiIrsPdRxd6vV6z/PMl5Jy5RdiJlCuIkLMBMqV0LWquoR4OQFQriJCzATKVUSImUC5EtriEBGRQtRxiIhIIeo4RESkEHUcIiJSiA6Od0muzhka5covxEygXEWEmAmUq1PfUGt7HtAvQ4sJMVeImUC5iggxEyhXQruqRESkEHUcXWZmZnoOerKUlCu/EDOBchURYiZQroQ6ji6zs7M9R1ZbSsqVX4iZQLmKCDETKFdCHYeIiBSijkNERApRxyEiIoUMYwTAg83sJjPbYGb3mdlHM8r8tpndG99uNbMjU8/91MzWmdndZqZBNkREltgwfsfRAj7u7nea2V7AWjO7wd3vT5XZCPyquz9lZm8F1gCvTz3/JnefGkJW4hFsg6Nc+YWYCZSriBAzgXIlBt5xuPujwKPx/WfNbANwEHB/qsytqVluA1buSp3tdpvt27fPmz46OkqlUgGg0WgwNzc3r0y5XGZsbAyIzlTodYrb+Pg4Zka73e55Hfxqtdr5Ref09DRZoy1WKhVGR0cBaDabtFqteWVKpRLj4+MAtFotms1mZn21Wo1SqYS7Mz09nVkmvQzq9Xrm5ZjTy2BmZibzbA0zY3x8nPHxcebm5jKXN8DY2BjlchmgZ5n0MujVLqVSiVqtBizcLuPj4z3XAdixXXotg5GRkc6Pqvq1S5IpT7vUajWmp6cXXDd3pV0Ali1bBsDc3ByNRiOzTLpdANx9Xq7Fbpci75ekbHemdLsstG7C4r5fGo1G5z2czpX3M6Nou+zMZ0aSq2i7FB0JdqjHOMxsFXAUcHufYh8Ark09duB6M1trZmf1ee2zzGzSzCanpoaycSIiskca2pjjZrYc+CfgfHe/skeZNwF/ARzv7k/G0w50981m9iLgBuBsd/9ev7p2ZczxpPcO7Zo0ypVfiJlAuYoIMRPs3rmKjDk+lP/ezCrAFcAlfTqNXwT+Bnhr0mkAuPvm+O/jZnYVcCzQt+PYFclmbWgrhnLlF2ImUK4iQswEypUYxllVBlwIbHD3L/Uo81LgSuAMd/9Ravqy+IA6ZrYMeAuwftCZRUSkt2F0T8cBZwDrzOzueNongZcCuPsFwHnAvsBfxGcHtOJNphcDV8XTRoCvu/t3h5BZRER6GMZZVbcAfc8Vc/cPAh/MmP4QcOT8OUREZKnol+MiIlKIOg4RESkkrFMDApD8aCY0ypVfiJlAuYoIMRMoV0IdR5dSKcyNMOXKL8RMoFxFhJgJlKtT31Brex5w98I/vx8G5covxEygXEWEmAmUK6GOo8v09HTP69YsJeXKL8RMoFxFhJgJlCuhjkNERApRxyEiIoWo4xARkULUcYiISCHqOEREpBD9jqNLMrJWaJQrvxAzgXIVEWImUK6EOo4uyTCRoVGu/ELMBMpVRIiZQLkS2lUlIiKFqOPo0mg0eg4kv5SUK78QM4FyFRFiJlCuxDBGADzYzG4ysw1mdp+ZfTSjjJnZV8zsQTO718yOTj13ppn9OL6dOei8c3NzzM3NDbqawpQrvxAzgXIVEWImUK7EMI5xtICPu/ud8TCwa83sBne/P1XmrcAr4tvrgb8EXm9mLwQ+BUwAHs97jbs/NYigV9/1CGtu3MDPn2kwVhvnnJNfxWlHHTSIqmQPo3VLdicD3+Jw90fd/c74/rPABqD7HXMq8DWP3AasMLMDgJOBG9x9S9xZ3ACcMoicV9/1COdeuY7HnmngwCNb65x75TquvuuRQVQnexCtW7K7GepZVWa2CjgKuL3rqYOAh1OPN8XTek3vq91us3379nnTR0dHO2cfNBqNHTbt1ty4gVqpxfIRZ1srGunW2y3W3LiBN79yxbzXGh8fx8xot9vU6/XMHNVqlZGRaBFPT09nXr2yUql0TqVrNpu0Wq15ZdKXTG61WjSbzcz6arUapVIJd+95wbP0MqjX67Tb7XllyuUyY2NjAMzMzDA7OzuvjJkxPj4ORJvJWcsbYGxsjHK5DNCzTHoZdLdLolQqdcYcmJ2dZWZmJvO1kky91gHYsV16LYORkRGq1SrQv12STP3a5U+v+yH12TlqVWdF56zJHdetxWoXgGXLlgFRu/Ta751ul17r72K3S5H3S6PRyHy/pNslz7q5mO+XRqORmT3dLv2WQdF2KfKZ0Z2raLsUvbLu0A6Om9ly4Arg9939me6nM2bxPtOzXv8sM5s0s8mpqanC+X7+THZD9pouktfmp7M/KLVuyfPVULY4zKxC1Glc4u5XZhTZBBycerwS2BxPP6Fr+s1Zdbj7GmANwMTEhCe9ey/JN4TO49o4j2ytM5v6oteYM/bdq0a/1yqVSn2fTyTfgPqpVqudb1Pdkm8oIyMjnW9lvZhZrkx5Rg0bHR3t++Oicrm8wzeufvJkyvM6lUql73nrRTLlWQb92iXRr11esneybhlPNODZ2ej70EErstetxWgXiJZDnmW+fPlyoP+yX4x2gfzvl6RMv3rzLIPFfL+ks/TKlWcZ5G2XIp8ZyVZKVq48mcyyvqP3Noyzqgy4ENjg7l/qUewa4N/HZ1e9AXja3R8FrgPeYmb7mNk+wFviaYvunJNfRa1S5tlZ67yxa5Uy55z8qkFUV9jY2FiuN++whZgrtExat4oLMRMoV2IYWxzHAWcA68zs7njaJ4GXArj7BcB3gLcBDwLTwO/Ez20xs88CP4jnW+3uWwYRMjnD5YvXPcDmrXUOXFHTmS+yKLRuye7GQhwGcVdNTEz45OTkTs2bHGwL7dICypVfiJlAuYoIMRPs3rnMbK27T+Qpq2tVdUnOPghtxVCu/ELMBMpVRIiZQLkSuuSIiIgUoo5DREQKUcchIiKFqOMQEZFC1HGIiEghu+XpuGb2BPCzXXiJ/YDi1y0ZPOXKL8RMoFxFhJgJdt9cL3P3/fMU3C07jl1lZpN5z2ceJuXKL8RMoFxFhJgJlAu0q0pERApSxyEiIoWo48i2ZqkD9KBc+YWYCZSriBAzgXLpGIeIiBSjLQ4RESlEHYeIiBSyR3UcZvZVM3vczNb3eN7M7Ctm9qCZ3WtmR6eeO9PMfhzfzhxyrt+O89xrZrea2ZGp535qZuvM7G4z27lrye98rhPM7Om47rvN7LzUc6eY2QPxsvzEEDOdk8qz3szmzOyF8XODXFYHm9lNZrbBzO4zs49mlBnq+pUz09DXrZy5lmLdypNr6OuXmY2Z2R1mdk+c6zMZZapmdmm8TG43s1Wp586Npz9gZicvSih332NuwK8ARwPrezz/NuBaorHO3wDcHk9/IfBQ/Hef+P4+Q8z1xqQ+4K1JrvjxT4H9lmh5nQB8O2N6GfgJcCgwCtwDvHoYmbrKvh24cUjL6gDg6Pj+XsCPuv/nYa9fOTMNfd3KmWsp1q0Fcy3F+hWvL8vj+xXgduANXWX+I3BBfP904NL4/qvjZVQFDomXXXlXM+1RWxzu/j2g3wiCpwJf88htwAozOwA4GbjB3be4+1PADcApw8rl7rfG9QLcRjT2+sDlWF69HAs86O4PufsM8E2iZTvsTO8FvrEY9S7E3R919zvj+88CG4DuIf6Gun7lybQU61bOZdXLINetormGsn7F68u2+GElvnWf1XQqcHF8/3Lg18zM4unfdPemu28kGmX12F3NtEd1HDkcBDycerwpntZr+lL4ANG31oQD15vZWjM7awny/FK8CX2tmR0eT1vy5WVm40QfvlekJg9lWcW7CY4i+maYtmTrV59MaUNftxbItWTr1kLLa9jrl5mVLRp6+3GiLxk91y13bwFPA/syoOWlEQB3ZBnTvM/0oTKzNxG9uY9PTT7O3Teb2YuAG8zsh/G38mG4k+j6NtvM7G3A1cArCGN5vR34F99xjPqBLyszW070YfL77v5M99MZswx8/VogU1Jm6OvWArmWbN3Ks7wY8vrl7nPAa81sBXCVmb3G3dPH+Ya6bmmLY0ebgINTj1cCm/tMHxoz+0Xgb4BT3f3JZLq7b47/Pg5cxSJshubl7s8km9Du/h2gYmb7EcDyItrPu8NuhEEvKzOrEH3gXOLuV2YUGfr6lSPTkqxbC+VaqnUrz/KKDX39il97K3Az83dldpaLmY0AexPt0h3M8lqsAzjPlxuwit4He3+dHQ9e3hFPfyGwkejA5T7x/RcOMddLifZNvrFr+jJgr9T9W4FThpjrJTz3I9JjgX+Nl90I0QHeQ3juAObhw8gUP5+8aZYNa1nF//fXgC/3KTPU9StnpqGvWzlzDX3dypNrKdYvYH9gRXy/Bvwz8BtdZX6PHQ+OXxbfP5wdD44/xCIcHN+jdlWZ2TeIztbYz8w2AZ8iOtCEu18AfIfozJcHgWngd+LntpjZZ4EfxC+12nfcRB10rvOI9lf+RXS8i5ZHV8F8MdFmK0RvqK+7+3eHmOtdwO+aWQuoA6d7tLa2zOwjwHVEZ8F81d3vG1ImgN8Ernf37alZB7qsgOOAM4B18b5ogE8SfTAv1fqVJ9NSrFt5cg193cqZC4a/fh0AXGxmZaK9RJe5+7fNbDUw6e7XABcCf2dmDxJ1aqfHme8zs8uA+4EW8Hse7fbaJbrkiIiIFKJjHCIiUog6DhERKUQdh4iIFKKOQ0REClHHISIihajjEBGRQtRxiIhIIeo4RIYgHufhzfH9z5nZV5Y6k8jO2qN+OS6yhD4FrI4vgHcU8I4lziOy0/TLcZEhMbN/ApYDJ3g03oPI85J2VYkMgZkdQXTNoaY6DXm+U8chMmDxKH+XEI3Gtn3Rxn0WWSLqOEQGKB4p7krg4+6+Afgs8OklDSWyi3SMQ0RECtEWh4iIFKKOQ0REClHHISIihajjEBGRQtRxiIhIIeo4RESkEHUcIiJSyP8HiDkdhV9t7HIAAAAASUVORK5CYII=\n",
      "text/plain": [
       "<Figure size 432x288 with 1 Axes>"
      ]
     },
     "metadata": {},
     "output_type": "display_data"
    }
   ],
   "source": [
    "plt.scatter(x=x_train,y=y_train,marker='o',label=r'$Data$')\n",
    "plt.xlabel(r'$x$')\n",
    "plt.ylabel(r'$y$')\n",
    "plt.title('Scatterplot of our data')\n",
    "plt.tick_params(top=False)\n",
    "plt.grid(True, lw=1.75, ls='--', alpha=0.15)\n",
    "plt.legend(loc='best')"
   ]
  },
  {
   "cell_type": "code",
   "execution_count": 24,
=======
   "execution_count": 29,
>>>>>>> 3146e82765cbe3553c5d561769df449ac62ad15b
   "metadata": {},
   "outputs": [
    {
     "name": "stdout",
     "output_type": "stream",
     "text": [
      "(3,) (3,)\n"
     ]
    },
    {
     "data": {
<<<<<<< HEAD
      "image/png": "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\n",
      "text/plain": [
       "<Figure size 432x288 with 1 Axes>"
=======
      "image/png": "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\n",
      "text/plain": [
       "<matplotlib.figure.Figure at 0x1a1d8b1ac8>"
>>>>>>> 3146e82765cbe3553c5d561769df449ac62ad15b
      ]
     },
     "metadata": {},
     "output_type": "display_data"
    }
   ],
   "source": [
    "# %load solutions/simple_scatterplot.py\n",
    "# Make a simple scatterplot\n",
<<<<<<< HEAD
    "x_train = np.array([1,2,3])\n",
    "y_train = np.array([2,2,4])\n",
=======
>>>>>>> 3146e82765cbe3553c5d561769df449ac62ad15b
    "plt.scatter(x_train,y_train)\n",
    "\n",
    "# check dimensions \n",
    "print(x_train.shape,y_train.shape)\n"
   ]
  },
  {
   "cell_type": "code",
<<<<<<< HEAD
   "execution_count": 26,
=======
   "execution_count": 38,
>>>>>>> 3146e82765cbe3553c5d561769df449ac62ad15b
   "metadata": {},
   "outputs": [
    {
     "data": {
      "text/plain": [
<<<<<<< HEAD
       "<matplotlib.axes._subplots.AxesSubplot at 0x1a1f95ad68>"
      ]
     },
     "execution_count": 26,
=======
       "<matplotlib.axes._subplots.AxesSubplot at 0x1a1d9c9390>"
      ]
     },
     "execution_count": 38,
>>>>>>> 3146e82765cbe3553c5d561769df449ac62ad15b
     "metadata": {},
     "output_type": "execute_result"
    },
    {
     "data": {
<<<<<<< HEAD
      "image/png": "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\n",
      "text/plain": [
       "<Figure size 576x360 with 1 Axes>"
=======
      "image/png": "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\n",
      "text/plain": [
       "<matplotlib.figure.Figure at 0x1a1d9f1278>"
>>>>>>> 3146e82765cbe3553c5d561769df449ac62ad15b
      ]
     },
     "metadata": {},
     "output_type": "display_data"
    }
   ],
   "source": [
    "# %load solutions/nice_scatterplot.py\n",
    "def nice_scatterplot(x, y, title):\n",
    "    # font size\n",
    "    f_size = 18\n",
    "    \n",
    "    # make the figure\n",
    "    fig, ax = plt.subplots(1,1, figsize=(8,5)) # Create figure object\n",
    "\n",
    "    # set axes limits to make the scale nice\n",
    "    ax.set_xlim(np.min(x)-1, np.max(x) + 1)\n",
    "    ax.set_ylim(np.min(y)-1, np.max(y) + 1)\n",
    "\n",
    "    # adjust size of tickmarks in axes\n",
    "    ax.tick_params(labelsize = f_size)\n",
    "    \n",
<<<<<<< HEAD
=======
    "    # remove tick labels\n",
    "    ax.tick_params(labelbottom=False,  bottom=False)\n",
    "    \n",
>>>>>>> 3146e82765cbe3553c5d561769df449ac62ad15b
    "    # adjust size of axis label\n",
    "    ax.set_xlabel(r'$x$', fontsize = f_size)\n",
    "    ax.set_ylabel(r'$y$', fontsize = f_size)\n",
    "    \n",
    "    # set figure title label\n",
    "    ax.set_title(title, fontsize = f_size)\n",
    "\n",
    "    # you may set up grid with this \n",
    "    ax.grid(True, lw=1.75, ls='--', alpha=0.15)\n",
    "\n",
    "    # make actual plot (Notice the label argument!)\n",
<<<<<<< HEAD
    "    ax.scatter(x, y, label=r'$my points$')\n",
=======
    "    #ax.scatter(x, y, label=r'$my points$')\n",
    "    #ax.scatter(x, y, label='$my points$')\n",
    "    ax.scatter(x, y, label=r'$my\\,points$')\n",
>>>>>>> 3146e82765cbe3553c5d561769df449ac62ad15b
    "    ax.legend(loc='best', fontsize = f_size);\n",
    "    \n",
    "    return ax\n",
    "\n",
<<<<<<< HEAD
    "nice_scatterplot(x_train, y_train, 'hello nice plot')\n",
    "\n"
=======
    "nice_scatterplot(x_train, y_train, 'hello nice plot')\n"
>>>>>>> 3146e82765cbe3553c5d561769df449ac62ad15b
   ]
  },
  {
   "cell_type": "markdown",
   "metadata": {},
   "source": [
    "\n",
    "#### Formulae\n",
    "Linear regression is special among the models we study beuase it can be solved explicitly. While most other models (and even some advanced versions of linear regression) must be solved itteratively, linear regression has a formula where you can simply plug in the data.\n",
    "\n",
    "For the single predictor case it is:\n",
    "    \\begin{align}\n",
    "      \\beta_1 &= \\frac{\\sum_{i=1}^n{(x_i-\\bar{x})(y_i-\\bar{y})}}{\\sum_{i=1}^n{(x_i-\\bar{x})^2}}\\\\\n",
    "      \\beta_0 &= \\bar{y} - \\beta_1\\bar{x}\\\n",
    "    \\end{align}\n",
    "    \n",
    "Where $\\bar{y}$ and $\\bar{x}$ are the mean of the y values and the mean of the x values, respectively.\n",
    "\n",
    "From the re-aranged second equation we can see that the best-fit line  passes through $(\\bar{x},\\bar{y})$, the center of mass of the data\n",
    "\n",
    "From any of the first equations, we can see that the slope of the line has to do with whether or not an x value that is above/below the center of mass is typically paired with a y value that is likewise above/below, or typically paired with one that is opposite."
   ]
  },
  {
   "cell_type": "markdown",
   "metadata": {},
   "source": [
    "###  Building a model from scratch\n",
    "In this part, we will solve the equations for simple linear regression and find the best fit solution to our toy problem."
   ]
  },
  {
   "cell_type": "markdown",
   "metadata": {},
   "source": [
    "The snippets of code below implement the linear regression equations on the observed predictors and responses, which we'll call the training data set.  Let's walk through the code.\n",
    "\n",
    "We have to reshape our arrrays to 2D. We will see later why."
   ]
  },
  {
   "cell_type": "markdown",
   "metadata": {},
   "source": [
    "<div class=\"exercise\"><b>Exercise (5 min)</b></div>\n",
    "* make an array with shape (2,3)\n",
    "* reshape it to a size that you want"
   ]
  },
  {
   "cell_type": "code",
<<<<<<< HEAD
   "execution_count": 44,
=======
   "execution_count": null,
   "metadata": {},
   "outputs": [],
   "source": [
    "# your code here\n",
    "xx = np.array([[1,2,3],[4,6,8]])\n",
    "xxx = xx.reshape(-1,2)\n",
    "xxx.shape"
   ]
  },
  {
   "cell_type": "code",
   "execution_count": 39,
>>>>>>> 3146e82765cbe3553c5d561769df449ac62ad15b
   "metadata": {},
   "outputs": [
    {
     "name": "stdout",
     "output_type": "stream",
     "text": [
      "(3, 1)\n"
     ]
    }
   ],
   "source": [
    "# Reshape to be a proper 2D array\n",
    "x_train = x_train.reshape(x_train.shape[0], 1)\n",
    "y_train = y_train.reshape(y_train.shape[0], 1)\n",
    "\n",
    "print(x_train.shape)"
   ]
  },
  {
   "cell_type": "code",
<<<<<<< HEAD
   "execution_count": 46,
=======
   "execution_count": 40,
>>>>>>> 3146e82765cbe3553c5d561769df449ac62ad15b
   "metadata": {},
   "outputs": [
    {
     "name": "stdout",
     "output_type": "stream",
     "text": [
      "() ()\n"
     ]
    }
   ],
   "source": [
    "# first, compute means\n",
    "y_bar = np.mean(y_train)\n",
    "x_bar = np.mean(x_train)\n",
    "\n",
    "# build the two terms\n",
    "numerator = np.sum( (x_train - x_bar)*(y_train - y_bar) )\n",
    "denominator = np.sum((x_train - x_bar)**2)\n",
    "\n",
    "print(numerator.shape, denominator.shape) #check shapes"
   ]
  },
  {
   "cell_type": "markdown",
   "metadata": {},
   "source": [
    "* Why the empty brackets? (The numerator and denominator are scalars, as expected.)"
   ]
  },
  {
   "cell_type": "code",
   "execution_count": 47,
   "metadata": {},
   "outputs": [
    {
     "name": "stdout",
     "output_type": "stream",
     "text": [
<<<<<<< HEAD
      "The best-fit line is 0.666667 + 1.000000 * x\n"
=======
      "The best-fit line is -0.33 + 2.00 * x\n",
      "The best fit is -0.3333333333333335\n"
>>>>>>> 3146e82765cbe3553c5d561769df449ac62ad15b
     ]
    }
   ],
   "source": [
    "#slope beta1\n",
    "beta_1 = numerator/denominator\n",
    "\n",
    "#intercept beta0\n",
    "beta_0 = y_bar - beta_1*x_bar\n",
    "\n",
    "print(\"The best-fit line is {0:3.2f} + {1:3.2f} * x\".format(beta_0, beta_1))\n",
    "print(f'The best fit is {beta_0}')"
   ]
  },
  {
   "cell_type": "markdown",
   "metadata": {},
   "source": [
    "<div class=\"exercise\"><b>Exercise (5 min)</b></div>\n",
    "\n",
    "Turn the code from the above cells into a function called `simple_linear_regression_fit`, that inputs the training data and returns `beta0` and `beta1`.\n",
    "\n",
    "To do this, copy and paste the code from the above cells below and adjust the code as needed, so that the training data becomes the input and the betas become the output.\n",
    "\n",
    "```python\n",
    "def simple_linear_regression_fit(x_train: np.ndarray, y_train: np.ndarray) -> np.ndarray:\n",
    "    \n",
    "    return\n",
    "```\n",
    "\n",
    "Check your function by calling it with the training data from above and printing out the beta values."
   ]
  },
  {
   "cell_type": "code",
   "execution_count": 128,
   "metadata": {},
   "outputs": [],
   "source": [
    "def simple_linear_regression_fit(x_train, y_train):\n",
    "    # reshape\n",
    "    x_train = x_train.reshape(x_train.shape[0], 1)\n",
    "    y_train = y_train.reshape(y_train.shape[0], 1)\n",
    "    # first, compute means\n",
    "    y_bar = np.mean(y_train)\n",
    "    x_bar = np.mean(x_train)\n",
    "    # build the two terms\n",
    "    numerator = np.sum( (x_train - x_bar)*(y_train - y_bar) )\n",
    "    denominator = np.sum((x_train - x_bar)**2)\n",
    "    \n",
    "    #slope beta1\n",
    "    beta_1 = numerator/denominator\n",
    "\n",
    "    #intercept beta0\n",
    "    beta_0 = y_bar - beta_1*x_bar\n",
    "    \n",
    "    return [beta_0, beta_1]"
   ]
  },
  {
   "cell_type": "code",
<<<<<<< HEAD
   "execution_count": 127,
   "metadata": {},
   "outputs": [],
   "source": [
    "x_train = np.array([1,2,3])\n",
    "y_train = np.array([2,2,4])\n",
    "betas = simple_linear_regression_fit(x_train, y_train)"
   ]
  },
  {
   "cell_type": "code",
   "execution_count": 81,
   "metadata": {},
   "outputs": [],
   "source": [
=======
   "execution_count": 50,
   "metadata": {},
   "outputs": [],
   "source": [
>>>>>>> 3146e82765cbe3553c5d561769df449ac62ad15b
    "# %load solutions/simple_linear_regression_fit.py\n",
    "def simple_linear_regression_fit(x_train: np.ndarray, y_train: np.ndarray) -> np.ndarray:\n",
    "    \"\"\"\n",
    "    Inputs:\n",
    "    x_train: a (num observations by 1) array holding the values of the predictor variable\n",
    "    y_train: a (num observations by 1) array holding the values of the response variable\n",
    "\n",
    "    Returns:\n",
    "    beta_vals:  a (num_features by 1) array holding the intercept and slope coeficients\n",
    "    \"\"\"\n",
    "    \n",
    "    # Check input array sizes\n",
    "    if len(x_train.shape) < 2:\n",
    "        print(\"Reshaping features array.\")\n",
    "        x_train = x_train.reshape(x_train.shape[0], 1)\n",
    "\n",
    "    if len(y_train.shape) < 2:\n",
    "        print(\"Reshaping observations array.\")\n",
    "        y_train = y_train.reshape(y_train.shape[0], 1)\n",
    "\n",
    "    # first, compute means\n",
    "    y_bar = np.mean(y_train)\n",
    "    x_bar = np.mean(x_train)\n",
    "\n",
    "    # build the two terms\n",
    "    numerator = np.sum( (x_train - x_bar)*(y_train - y_bar) )\n",
    "    denominator = np.sum((x_train - x_bar)**2)\n",
    "    \n",
    "    #slope beta1\n",
    "    beta_1 = numerator/denominator\n",
    "\n",
    "    #intercept beta0\n",
    "    beta_0 = y_bar - beta_1*x_bar\n",
    "\n",
<<<<<<< HEAD
    "    return np.array([beta_0,beta_1])"
=======
    "    return np.array([beta_0,beta_1])\n"
>>>>>>> 3146e82765cbe3553c5d561769df449ac62ad15b
   ]
  },
  {
   "cell_type": "markdown",
   "metadata": {},
   "source": [
    "* Let's run this function and see the coefficients"
   ]
  },
  {
   "cell_type": "code",
<<<<<<< HEAD
   "execution_count": 129,
=======
   "execution_count": 55,
>>>>>>> 3146e82765cbe3553c5d561769df449ac62ad15b
   "metadata": {},
   "outputs": [
    {
     "name": "stdout",
     "output_type": "stream",
     "text": [
<<<<<<< HEAD
=======
      "Reshaping features array.\n",
      "Reshaping observations array.\n",
>>>>>>> 3146e82765cbe3553c5d561769df449ac62ad15b
      "The best-fit line is 0.666667 + 1.000000 * x\n"
     ]
    }
   ],
   "source": [
    "x_train = np.array([1 ,2, 3])\n",
    "y_train = np.array([2, 2, 4])\n",
    "\n",
    "betas = simple_linear_regression_fit(x_train, y_train)\n",
    "\n",
    "beta_0 = betas[0]\n",
    "beta_1 = betas[1]\n",
    "\n",
    "print(\"The best-fit line is {0:8.6f} + {1:8.6f} * x\".format(beta_0, beta_1))"
   ]
  },
  {
   "cell_type": "markdown",
   "metadata": {},
   "source": [
    "<div class=\"exercise\"><b>Exercise (5 min)</b></div>\n",
    "* Do the values of `beta0` and `beta1` seem reasonable?\n",
    "* Plot the training data using a scatter plot.\n",
    "* Plot the best fit line with `beta0` and `beta1` together with the training data."
   ]
  },
  {
   "cell_type": "code",
   "execution_count": 130,
   "metadata": {},
   "outputs": [
    {
     "data": {
      "text/plain": [
       "<matplotlib.axes._subplots.AxesSubplot at 0x1c29839438>"
      ]
     },
     "execution_count": 130,
     "metadata": {},
     "output_type": "execute_result"
    },
    {
     "data": {
      "image/png": "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\n",
      "text/plain": [
       "<Figure size 576x360 with 1 Axes>"
      ]
     },
     "metadata": {},
     "output_type": "display_data"
    }
   ],
   "source": [
    "def scatter_and_lm(x, y, intercept, slope):\n",
    "    # font size\n",
    "    f_size = 18\n",
    "    \n",
    "    # make the figure\n",
    "    fig, ax = plt.subplots(1,1, figsize=(8,5)) # Create figure object\n",
    "\n",
    "    # set axes limits to make the scale nice\n",
    "    ax.set_xlim(np.min(x)-1, np.max(x) + 1)\n",
    "    ax.set_ylim(np.min(y)-1, np.max(y) + 1)\n",
    "\n",
    "    # adjust size of tickmarks in axes\n",
    "    ax.tick_params(labelsize = f_size)\n",
    "    \n",
    "    # adjust size of axis label\n",
    "    ax.set_xlabel(r'$x$', fontsize = f_size)\n",
    "    ax.set_ylabel(r'$y$', fontsize = f_size)\n",
    "\n",
    "    # you may set up grid with this \n",
    "    ax.grid(True, lw=1.75, ls='--', alpha=0.15)\n",
    "\n",
    "    # make actual plot (Notice the label argument!)\n",
    "    ax.scatter(x, y, label=r'$data$')\n",
    "    \n",
    "    # add regression line\n",
    "    x_vals = np.array(ax.get_xlim())\n",
    "    y_vals = intercept + slope * x_vals\n",
    "    ax.plot(x_vals, y_vals, '--',label=r'$regression \\ line$')\n",
    "    \n",
    "    # add legend\n",
    "    ax.legend(loc='best', fontsize = f_size)\n",
    "    \n",
    "    return ax\n",
    "\n",
    "scatter_and_lm(x_train, y_train, beta_0, beta_1)\n",
    "\n"
   ]
  },
  {
   "cell_type": "code",
   "execution_count": 84,
   "metadata": {},
   "outputs": [
    {
     "data": {
      "image/png": "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\n",
      "text/plain": [
       "<Figure size 720x432 with 1 Axes>"
      ]
     },
     "metadata": {},
     "output_type": "display_data"
    }
   ],
   "source": [
    "# %load solutions/best_fit_scatterplot.py\n",
    "fig_scat, ax_scat = plt.subplots(1,1, figsize=(10,6))\n",
    "\n",
    "# Plot best-fit line\n",
    "x_train = np.array([[1, 2, 3]]).T\n",
    "\n",
    "best_fit = beta_0 + beta_1 * x_train\n",
    "\n",
    "ax_scat.scatter(x_train, y_train, s=300, label='Training Data')\n",
    "ax_scat.plot(x_train, best_fit, ls='--', label='Best Fit Line')\n",
    "\n",
    "ax_scat.set_xlabel(r'$x_{train}$')\n",
    "ax_scat.set_ylabel(r'$y$');\n"
   ]
  },
  {
   "cell_type": "code",
<<<<<<< HEAD
   "execution_count": 74,
=======
   "execution_count": 65,
>>>>>>> 3146e82765cbe3553c5d561769df449ac62ad15b
   "metadata": {},
   "outputs": [
    {
     "data": {
<<<<<<< HEAD
      "text/plain": [
       "[1.0, 0.6666666666666665]"
      ]
     },
     "execution_count": 74,
     "metadata": {},
     "output_type": "execute_result"
    }
   ],
   "source": [
    "betas"
=======
      "image/png": "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\n",
      "text/plain": [
       "<matplotlib.figure.Figure at 0x1a1ec908d0>"
      ]
     },
     "metadata": {},
     "output_type": "display_data"
    }
   ],
   "source": [
    "# %load solutions/best_fit_scatterplot.py\n",
    "fig_scat, ax_scat = plt.subplots(1,1, figsize=(10,6))\n",
    "\n",
    "# Plot best-fit line\n",
    "x_train = np.array([[1, 2, 3]]).T\n",
    "\n",
    "best_fit = beta_0 + beta_1 * x_train\n",
    "\n",
    "ax_scat.scatter(x_train, y_train, s=300, label='Training Data')\n",
    "ax_scat.plot(x_train, best_fit, ls='--', label='Best Fit Line')\n",
    "\n",
    "ax_scat.set_xlabel(r'$x_{train}$')\n",
    "ax_scat.set_ylabel(r'$y$');\n"
>>>>>>> 3146e82765cbe3553c5d561769df449ac62ad15b
   ]
  },
  {
   "cell_type": "markdown",
   "metadata": {},
   "source": [
    "The values of `beta0` and `beta1` seem roughly reasonable.  They capture the positive correlation.  The line does appear to be trying to get as close as possible to all the points."
   ]
  },
  {
   "cell_type": "markdown",
   "metadata": {},
   "source": [
    "### Building a model with `statsmodels` and `sklearn`\n",
    "\n",
    "Now that we can concretely fit the training data from scratch, let's learn two `python` packages to do it all for us:\n",
    "* [statsmodels](http://www.statsmodels.org/stable/regression.html) and \n",
    "* [scikit-learn (sklearn)](http://scikit-learn.org/stable/modules/generated/sklearn.linear_model.LinearRegression.html).\n",
    "\n",
    "Our goal  is to show how to implement simple linear regression with these packages.  For an important sanity check, we compare the $\\beta$ values from `statsmodels` and `sklearn` to the $\\beta$ values that we found from above with our own implementation.\n",
    "\n",
    "For the purposes of this lab, `statsmodels` and `sklearn` do the same thing.  More generally though, `statsmodels` tends to be easier for inference \\[finding the values of the slope and intercept and dicussing uncertainty in those values\\], whereas `sklearn` has machine-learning algorithms and is better for prediction \\[guessing y values for a given x value\\]. (Note that both packages make the same guesses, it's just a question of which activity they provide more support for.\n",
    "\n",
    "**Note:** `statsmodels` and `sklearn` are different packages!  Unless we specify otherwise, you can use either one."
   ]
  },
  {
   "cell_type": "markdown",
   "metadata": {},
   "source": [
    "Below is the code for `statsmodels`.  `Statsmodels` does not by default include the column of ones in the $X$ matrix, so we include it manually with `sm.add_constant`."
   ]
  },
  {
   "cell_type": "code",
<<<<<<< HEAD
   "execution_count": 85,
=======
   "execution_count": 58,
>>>>>>> 3146e82765cbe3553c5d561769df449ac62ad15b
   "metadata": {},
   "outputs": [],
   "source": [
    "import statsmodels.api as sm"
   ]
  },
  {
   "cell_type": "code",
<<<<<<< HEAD
   "execution_count": 86,
=======
   "execution_count": 66,
>>>>>>> 3146e82765cbe3553c5d561769df449ac62ad15b
   "metadata": {},
   "outputs": [
    {
     "name": "stdout",
     "output_type": "stream",
     "text": [
<<<<<<< HEAD
      "[[1. 1.]\n",
      " [1. 2.]\n",
      " [1. 3.]]\n",
=======
      "[[ 1.  1.]\n",
      " [ 1.  2.]\n",
      " [ 1.  3.]]\n",
>>>>>>> 3146e82765cbe3553c5d561769df449ac62ad15b
      "The regression coefficients from the statsmodels package are: beta_0 = 0.666667 and beta_1 = 1.000000\n"
     ]
    }
   ],
   "source": [
    "# create the X matrix by appending a column of ones to x_train\n",
    "X = sm.add_constant(x_train)\n",
    "\n",
    "# this is the same matrix as in our scratch problem!\n",
    "print(X)\n",
    "\n",
    "# build the OLS model (ordinary least squares) from the training data\n",
    "toyregr_sm = sm.OLS(y_train, X)\n",
    "\n",
    "# do the fit and save regression info (parameters, etc) in results_sm\n",
    "results_sm = toyregr_sm.fit()\n",
    "\n",
    "# pull the beta parameters out from results_sm\n",
    "beta0_sm = results_sm.params[0]\n",
    "beta1_sm = results_sm.params[1]\n",
    "\n",
    "print(\"The regression coefficients from the statsmodels package are: beta_0 = {0:8.6f} and beta_1 = {1:8.6f}\".format(beta0_sm, beta1_sm))"
   ]
  },
  {
   "cell_type": "markdown",
   "metadata": {},
   "source": [
    "Besides the beta parameters, `results_sm` contains a ton of other potentially useful information."
   ]
  },
  {
   "cell_type": "code",
<<<<<<< HEAD
   "execution_count": 87,
=======
   "execution_count": 60,
>>>>>>> 3146e82765cbe3553c5d561769df449ac62ad15b
   "metadata": {},
   "outputs": [
    {
     "name": "stdout",
     "output_type": "stream",
     "text": [
      "                            OLS Regression Results                            \n",
      "==============================================================================\n",
      "Dep. Variable:                      y   R-squared:                       0.750\n",
      "Model:                            OLS   Adj. R-squared:                  0.500\n",
      "Method:                 Least Squares   F-statistic:                     3.000\n",
<<<<<<< HEAD
      "Date:                Thu, 20 Sep 2018   Prob (F-statistic):              0.333\n",
      "Time:                        17:27:08   Log-Likelihood:                -2.0007\n",
=======
      "Date:                Fri, 21 Sep 2018   Prob (F-statistic):              0.333\n",
      "Time:                        11:31:12   Log-Likelihood:                -2.0007\n",
>>>>>>> 3146e82765cbe3553c5d561769df449ac62ad15b
      "No. Observations:                   3   AIC:                             8.001\n",
      "Df Residuals:                       1   BIC:                             6.199\n",
      "Df Model:                           1                                         \n",
      "Covariance Type:            nonrobust                                         \n",
      "==============================================================================\n",
      "                 coef    std err          t      P>|t|      [0.025      0.975]\n",
      "------------------------------------------------------------------------------\n",
      "const          0.6667      1.247      0.535      0.687     -15.181      16.514\n",
      "x1             1.0000      0.577      1.732      0.333      -6.336       8.336\n",
      "==============================================================================\n",
      "Omnibus:                          nan   Durbin-Watson:                   3.000\n",
      "Prob(Omnibus):                    nan   Jarque-Bera (JB):                0.531\n",
      "Skew:                          -0.707   Prob(JB):                        0.767\n",
      "Kurtosis:                       1.500   Cond. No.                         6.79\n",
      "==============================================================================\n",
      "\n",
      "Warnings:\n",
      "[1] Standard Errors assume that the covariance matrix of the errors is correctly specified.\n"
     ]
    }
   ],
   "source": [
    "import warnings\n",
    "warnings.filterwarnings('ignore')\n",
    "print(results_sm.summary())"
   ]
  },
  {
   "cell_type": "markdown",
   "metadata": {},
   "source": [
    "Now let's turn our attention to the `sklearn` library."
   ]
  },
  {
   "cell_type": "code",
<<<<<<< HEAD
   "execution_count": 88,
=======
   "execution_count": 67,
>>>>>>> 3146e82765cbe3553c5d561769df449ac62ad15b
   "metadata": {},
   "outputs": [],
   "source": [
    "from sklearn import linear_model"
   ]
  },
  {
   "cell_type": "code",
<<<<<<< HEAD
   "execution_count": 89,
=======
   "execution_count": 68,
>>>>>>> 3146e82765cbe3553c5d561769df449ac62ad15b
   "metadata": {},
   "outputs": [
    {
     "name": "stdout",
     "output_type": "stream",
     "text": [
      "The regression coefficients from the sklearn package are: beta_0 = 0.666667 and beta_1 = 1.000000\n"
     ]
    }
   ],
   "source": [
    "# build the least squares model\n",
    "toyregr = linear_model.LinearRegression()\n",
    "\n",
    "# save regression info (parameters, etc) in results_skl\n",
    "results = toyregr.fit(x_train, y_train)\n",
    "\n",
    "# pull the beta parameters out from results_skl\n",
    "beta0_skl = toyregr.intercept_\n",
    "beta1_skl = toyregr.coef_[0]\n",
    "\n",
    "print(\"The regression coefficients from the sklearn package are: beta_0 = {0:8.6f} and beta_1 = {1:8.6f}\".format(beta0_skl, beta1_skl))"
   ]
  },
  {
   "cell_type": "markdown",
   "metadata": {},
   "source": [
    "We should feel pretty good about ourselves now, and we're ready to move on to a real problem!"
   ]
  },
  {
   "cell_type": "markdown",
   "metadata": {},
   "source": [
    "### The shape of things in `scikit-learn`\n",
    "Before diving right in to a \"real\" problem, we really ought to discuss more of the details of `sklearn`.  We do this now.  Along the way, we'll import the real-world dataset."
   ]
  },
  {
   "cell_type": "markdown",
   "metadata": {},
   "source": [
    "`Scikit-learn` is the main `python` machine learning library. It consists of many learners which can learn models from data, as well as a lot of utility functions such as `train_test_split`. It can be used in `python` by the incantation `import sklearn`.\n",
    "\n",
    "In scikit-learn, an **estimator** is a Python object that implements the methods fit(X, y) and predict(T)\n",
    "\n",
    "Let's see the structure of `scikit-learn` needed to make these fits. `.fit` always takes two arguments:\n",
    "```python\n",
    "  estimator.fit(Xtrain, ytrain)\n",
    "```\n",
    "We will consider two estimators in this lab: `LinearRegression` and `KNeighborsRegressor`.\n",
    "\n",
    "Critically, `Xtrain` must be in the form of an *array of arrays* (or a 2x2 array) with the inner arrays each corresponding to one sample, and whose elements correspond to the feature values for that sample (visuals coming in a moment).\n",
    "\n",
    "`ytrain` on the other hand is a simple array of responses.  These are continuous for regression problems.\n",
    "\n",
    "![](images/sklearn2.jpg)"
   ]
  },
  {
   "cell_type": "markdown",
   "metadata": {},
   "source": [
    "### Practice with `sklearn`\n",
    "We begin by loading up the `mtcars` dataset and cleaning it up a little bit."
   ]
  },
  {
   "cell_type": "code",
<<<<<<< HEAD
   "execution_count": 90,
=======
   "execution_count": 73,
>>>>>>> 3146e82765cbe3553c5d561769df449ac62ad15b
   "metadata": {},
   "outputs": [
    {
     "data": {
      "text/html": [
       "<div>\n",
       "<style scoped>\n",
       "    .dataframe tbody tr th:only-of-type {\n",
       "        vertical-align: middle;\n",
       "    }\n",
       "\n",
       "    .dataframe tbody tr th {\n",
       "        vertical-align: top;\n",
       "    }\n",
       "\n",
       "    .dataframe thead th {\n",
       "        text-align: right;\n",
       "    }\n",
       "</style>\n",
       "<table border=\"1\" class=\"dataframe\">\n",
       "  <thead>\n",
       "    <tr style=\"text-align: right;\">\n",
       "      <th></th>\n",
       "      <th>car name</th>\n",
       "      <th>mpg</th>\n",
       "      <th>cyl</th>\n",
       "      <th>disp</th>\n",
       "      <th>hp</th>\n",
       "      <th>drat</th>\n",
       "      <th>wt</th>\n",
       "      <th>qsec</th>\n",
       "      <th>vs</th>\n",
       "      <th>am</th>\n",
       "      <th>gear</th>\n",
       "      <th>carb</th>\n",
       "    </tr>\n",
       "  </thead>\n",
       "  <tbody>\n",
       "    <tr>\n",
       "      <th>0</th>\n",
       "      <td>Mazda RX4</td>\n",
       "      <td>21.0</td>\n",
       "      <td>6</td>\n",
       "      <td>160.0</td>\n",
       "      <td>110</td>\n",
       "      <td>3.90</td>\n",
       "      <td>2.620</td>\n",
       "      <td>16.46</td>\n",
       "      <td>0</td>\n",
       "      <td>1</td>\n",
       "      <td>4</td>\n",
       "      <td>4</td>\n",
       "    </tr>\n",
       "    <tr>\n",
       "      <th>1</th>\n",
       "      <td>Mazda RX4 Wag</td>\n",
       "      <td>21.0</td>\n",
       "      <td>6</td>\n",
       "      <td>160.0</td>\n",
       "      <td>110</td>\n",
       "      <td>3.90</td>\n",
       "      <td>2.875</td>\n",
       "      <td>17.02</td>\n",
       "      <td>0</td>\n",
       "      <td>1</td>\n",
       "      <td>4</td>\n",
       "      <td>4</td>\n",
       "    </tr>\n",
       "    <tr>\n",
       "      <th>2</th>\n",
       "      <td>Datsun 710</td>\n",
       "      <td>22.8</td>\n",
       "      <td>4</td>\n",
       "      <td>108.0</td>\n",
       "      <td>93</td>\n",
       "      <td>3.85</td>\n",
       "      <td>2.320</td>\n",
       "      <td>18.61</td>\n",
       "      <td>1</td>\n",
       "      <td>1</td>\n",
       "      <td>4</td>\n",
       "      <td>1</td>\n",
       "    </tr>\n",
       "    <tr>\n",
       "      <th>3</th>\n",
       "      <td>Hornet 4 Drive</td>\n",
       "      <td>21.4</td>\n",
       "      <td>6</td>\n",
       "      <td>258.0</td>\n",
       "      <td>110</td>\n",
       "      <td>3.08</td>\n",
       "      <td>3.215</td>\n",
       "      <td>19.44</td>\n",
       "      <td>1</td>\n",
       "      <td>0</td>\n",
       "      <td>3</td>\n",
       "      <td>1</td>\n",
       "    </tr>\n",
       "    <tr>\n",
       "      <th>4</th>\n",
       "      <td>Hornet Sportabout</td>\n",
       "      <td>18.7</td>\n",
       "      <td>8</td>\n",
       "      <td>360.0</td>\n",
       "      <td>175</td>\n",
       "      <td>3.15</td>\n",
       "      <td>3.440</td>\n",
       "      <td>17.02</td>\n",
       "      <td>0</td>\n",
       "      <td>0</td>\n",
       "      <td>3</td>\n",
       "      <td>2</td>\n",
       "    </tr>\n",
       "  </tbody>\n",
       "</table>\n",
       "</div>"
      ],
      "text/plain": [
       "            car name   mpg  cyl   disp   hp  drat     wt   qsec  vs  am  gear  carb\n",
       "0          Mazda RX4  21.0    6  160.0  110  3.90  2.620  16.46   0   1     4     4\n",
       "1      Mazda RX4 Wag  21.0    6  160.0  110  3.90  2.875  17.02   0   1     4     4\n",
       "2         Datsun 710  22.8    4  108.0   93  3.85  2.320  18.61   1   1     4     1\n",
       "3     Hornet 4 Drive  21.4    6  258.0  110  3.08  3.215  19.44   1   0     3     1\n",
       "4  Hornet Sportabout  18.7    8  360.0  175  3.15  3.440  17.02   0   0     3     2"
      ]
     },
<<<<<<< HEAD
     "execution_count": 90,
=======
     "execution_count": 73,
>>>>>>> 3146e82765cbe3553c5d561769df449ac62ad15b
     "metadata": {},
     "output_type": "execute_result"
    }
   ],
   "source": [
    "import pandas as pd\n",
    "\n",
    "#load mtcars\n",
    "dfcars = pd.read_csv(\"data/mtcars.csv\")\n",
    "dfcars = dfcars.rename(columns={\"Unnamed: 0\":\"car name\"})\n",
    "dfcars.head()"
   ]
  },
  {
   "cell_type": "markdown",
   "metadata": {},
   "source": [
    "Next, let's split the dataset into a training set and test set."
   ]
  },
  {
   "cell_type": "code",
<<<<<<< HEAD
   "execution_count": 91,
=======
   "execution_count": 74,
>>>>>>> 3146e82765cbe3553c5d561769df449ac62ad15b
   "metadata": {},
   "outputs": [],
   "source": [
    "# split into training set and testing set\n",
    "from sklearn.model_selection import train_test_split\n",
    "\n",
    "#set random_state to get the same split every time\n",
    "traindf, testdf = train_test_split(dfcars, test_size=0.2, random_state=42)"
   ]
  },
  {
   "cell_type": "code",
<<<<<<< HEAD
   "execution_count": 92,
=======
   "execution_count": 75,
>>>>>>> 3146e82765cbe3553c5d561769df449ac62ad15b
   "metadata": {},
   "outputs": [
    {
     "name": "stdout",
     "output_type": "stream",
     "text": [
      "Shape of full dataset is: (32, 12)\n",
      "Shape of training dataset is: (25, 12)\n",
      "Shape of test dataset is: (7, 12)\n"
     ]
    }
   ],
   "source": [
    "# testing set is around 20% of the total data; training set is around 80%\n",
    "print(\"Shape of full dataset is: {0}\".format(dfcars.shape))\n",
    "print(\"Shape of training dataset is: {0}\".format(traindf.shape))\n",
    "print(\"Shape of test dataset is: {0}\".format(testdf.shape))"
   ]
  },
  {
   "cell_type": "markdown",
   "metadata": {},
   "source": [
    "Now we have training and test data.  We still need to select a predictor and a response from this dataset.  Keep in mind that we need to choose the predictor and response from both the training and test set.  You will do this in the exercises below.  However, we provide some starter code for you to get things going."
   ]
  },
  {
   "cell_type": "code",
<<<<<<< HEAD
   "execution_count": 93,
=======
   "execution_count": 76,
>>>>>>> 3146e82765cbe3553c5d561769df449ac62ad15b
   "metadata": {},
   "outputs": [],
   "source": [
    "# Extract the response variable that we're interested in\n",
    "y_train = traindf.mpg"
   ]
  },
  {
   "cell_type": "markdown",
   "metadata": {},
   "source": [
    "Notice the shape of `y_train`."
   ]
  },
  {
   "cell_type": "code",
<<<<<<< HEAD
   "execution_count": 94,
=======
   "execution_count": 77,
>>>>>>> 3146e82765cbe3553c5d561769df449ac62ad15b
   "metadata": {},
   "outputs": [
    {
     "data": {
      "text/plain": [
       "(25,)"
      ]
     },
<<<<<<< HEAD
     "execution_count": 94,
=======
     "execution_count": 77,
>>>>>>> 3146e82765cbe3553c5d561769df449ac62ad15b
     "metadata": {},
     "output_type": "execute_result"
    }
   ],
   "source": [
    "np.shape(y_train)"
   ]
  },
  {
   "cell_type": "markdown",
   "metadata": {},
   "source": [
    "Another way to see the shape is to use the shape method."
   ]
  },
  {
   "cell_type": "code",
<<<<<<< HEAD
   "execution_count": 95,
=======
   "execution_count": 78,
>>>>>>> 3146e82765cbe3553c5d561769df449ac62ad15b
   "metadata": {},
   "outputs": [
    {
     "data": {
      "text/plain": [
       "(25,)"
      ]
     },
<<<<<<< HEAD
     "execution_count": 95,
=======
     "execution_count": 78,
>>>>>>> 3146e82765cbe3553c5d561769df449ac62ad15b
     "metadata": {},
     "output_type": "execute_result"
    }
   ],
   "source": [
    "y_train.shape"
   ]
  },
  {
   "cell_type": "markdown",
   "metadata": {},
   "source": [
    "This is *not* an \"array of arrays\".  That's okay!  Remember, `sklearn` requires an array of arrays only for the predictor array!  You will have to pay close attention to this in the exercises later.\n",
    "\n",
    "For now, let's discuss two ways out of this debacle.  All we'll do is get `y_train` to be an array of arrays.  This doesn't hurt anything because `sklearn` doesn't care too much about the shape of `y_train`."
   ]
  },
  {
   "cell_type": "markdown",
   "metadata": {},
   "source": [
    "First, let's reshape `y_train` to be an array of arrays using the `reshape` method.  We want the first dimension of `y_train` to be size $25$ and the second dimension to be size $1$."
   ]
  },
  {
   "cell_type": "code",
<<<<<<< HEAD
   "execution_count": 96,
=======
   "execution_count": 79,
>>>>>>> 3146e82765cbe3553c5d561769df449ac62ad15b
   "metadata": {},
   "outputs": [],
   "source": [
    "y_train_reshape = y_train.values.reshape(y_train.shape[0], 1)"
   ]
  },
  {
   "cell_type": "code",
<<<<<<< HEAD
   "execution_count": 97,
=======
   "execution_count": 80,
>>>>>>> 3146e82765cbe3553c5d561769df449ac62ad15b
   "metadata": {},
   "outputs": [
    {
     "data": {
      "text/plain": [
       "(25, 1)"
      ]
     },
<<<<<<< HEAD
     "execution_count": 97,
=======
     "execution_count": 80,
>>>>>>> 3146e82765cbe3553c5d561769df449ac62ad15b
     "metadata": {},
     "output_type": "execute_result"
    }
   ],
   "source": [
    "y_train_reshape.shape"
   ]
  },
  {
   "cell_type": "markdown",
   "metadata": {},
   "source": [
    "Notice that `y_train.shape[0]` gives the size of the first dimension.\n",
    "\n",
    "There's an even easier way to get the correct shape right from the beginning."
   ]
  },
  {
   "cell_type": "code",
   "execution_count": 98,
   "metadata": {},
   "outputs": [],
   "source": [
    "y_train_reshape = traindf[['mpg']]"
   ]
  },
  {
   "cell_type": "code",
   "execution_count": 99,
   "metadata": {},
   "outputs": [
    {
     "data": {
      "text/plain": [
       "(25, 1)"
      ]
     },
     "execution_count": 99,
     "metadata": {},
     "output_type": "execute_result"
    }
   ],
   "source": [
    "y_train_reshape.shape"
   ]
  },
  {
   "cell_type": "markdown",
   "metadata": {},
   "source": [
    "Finally, there is a nice shortcut to reshaping an array.  `numpy` can infer a dimension based on the other dimensions specified."
   ]
  },
  {
   "cell_type": "code",
   "execution_count": 100,
   "metadata": {},
   "outputs": [
    {
     "data": {
      "text/plain": [
       "(25, 1)"
      ]
     },
     "execution_count": 100,
     "metadata": {},
     "output_type": "execute_result"
    }
   ],
   "source": [
    "y_train_reshape = y_train.values.reshape(-1,1)\n",
    "y_train_reshape.shape"
   ]
  },
  {
   "cell_type": "markdown",
   "metadata": {},
   "source": [
    "In this case, we said the second dimension should be size $1$.  Since the requirement of the `reshape()` method is that the requested dimensions be compatible, `numpy` decides the the first dimension must be size $25$.\n",
    "\n",
    "What would the `.shape` return if we did `y_train.values.reshape(-1,5)`?"
   ]
  },
  {
   "cell_type": "markdown",
   "metadata": {},
   "source": [
    "Okay, enough of that.  The whole reason we went through that whole process was to show you how to reshape your data into the correct format.\n",
    "\n",
    "**IMPORTANT:** Remember that your response variable `ytrain` can be a vector but your predictor variable `xtrain` ***must*** be an array!"
   ]
  },
  {
   "cell_type": "markdown",
   "metadata": {},
   "source": [
    "### Simple linear regression with automobile data\n",
    "We will now use `sklearn` to predict automobile mileage per gallon (mpg) and evaluate these predictions. We already loaded the data and split them into a training set and a test set."
   ]
  },
  {
   "cell_type": "markdown",
   "metadata": {},
   "source": [
    "We need to choose the variables that we think will be good predictors for the dependent variable `mpg`. "
   ]
  },
  {
   "cell_type": "markdown",
   "metadata": {},
   "source": [
    "<div class=\"exercise\"><b>Exercise (10 min)</b></div>\n",
    "* Pick one variable to use as a predictor for simple linear regression.  Create a markdown cell below and discuss your reasons.  \n",
    "* Justify your choice with some visualizations.  \n",
    "* Is there a second variable you'd like to use? For example, we're not doing multiple linear regression here, but if we were, is there another variable you'd like to include if we were using two predictors?"
   ]
  },
  {
   "cell_type": "code",
   "execution_count": 112,
   "metadata": {},
   "outputs": [
    {
     "data": {
      "text/plain": [
       "<seaborn.axisgrid.PairGrid at 0x1c285d1940>"
      ]
     },
     "execution_count": 112,
     "metadata": {},
     "output_type": "execute_result"
    },
    {
     "data": {
      "image/png": "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\n",
      "text/plain": [
       "<Figure size 2160x180 with 12 Axes>"
      ]
     },
     "metadata": {},
     "output_type": "display_data"
    }
   ],
   "source": [
    "import seaborn as sns\n",
    "sns.pairplot(dfcars, x_vars=dfcars.columns, y_vars=['mpg'])"
   ]
  },
  {
   "cell_type": "markdown",
   "metadata": {},
   "source": [
    "Let's use `wt` and `drat` which both seem to be correlated with `mpg` but which have a different relationship."
   ]
  },
  {
   "cell_type": "code",
<<<<<<< HEAD
   "execution_count": 114,
=======
   "execution_count": 82,
>>>>>>> 3146e82765cbe3553c5d561769df449ac62ad15b
   "metadata": {},
   "outputs": [
    {
     "data": {
      "text/plain": [
<<<<<<< HEAD
       "Text(0,0.5,'Car MPG')"
      ]
     },
     "execution_count": 114,
=======
       "<matplotlib.text.Text at 0x1a1ec3ca90>"
      ]
     },
     "execution_count": 82,
>>>>>>> 3146e82765cbe3553c5d561769df449ac62ad15b
     "metadata": {},
     "output_type": "execute_result"
    },
    {
     "data": {
<<<<<<< HEAD
      "image/png": "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\n",
      "text/plain": [
       "<Figure size 720x432 with 1 Axes>"
=======
      "image/png": "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\n",
      "text/plain": [
       "<matplotlib.figure.Figure at 0x1c1fb44048>"
>>>>>>> 3146e82765cbe3553c5d561769df449ac62ad15b
      ]
     },
     "metadata": {},
     "output_type": "display_data"
    },
    {
     "data": {
<<<<<<< HEAD
      "image/png": "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\n",
      "text/plain": [
       "<Figure size 720x432 with 1 Axes>"
=======
      "image/png": "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\n",
      "text/plain": [
       "<matplotlib.figure.Figure at 0x1a1eadad30>"
>>>>>>> 3146e82765cbe3553c5d561769df449ac62ad15b
      ]
     },
     "metadata": {},
     "output_type": "display_data"
    }
   ],
   "source": [
    "# %load solutions/cars_simple_EDA.py\n",
    "y_mpg = dfcars.mpg\n",
    "x_wt = dfcars.wt\n",
    "x_hp = dfcars.hp\n",
    "\n",
    "fig_wt, ax_wt = plt.subplots(1,1, figsize=(10,6))\n",
    "ax_wt.scatter(x_wt, y_mpg)\n",
    "ax_wt.set_xlabel(r'Car Weight')\n",
    "ax_wt.set_ylabel(r'Car MPG')\n",
    "\n",
    "fig_hp, ax_hp = plt.subplots(1,1, figsize=(10,6))\n",
    "ax_hp.scatter(x_hp, y_mpg)\n",
    "ax_hp.set_xlabel(r'Car HP')\n",
    "ax_hp.set_ylabel(r'Car MPG')\n"
   ]
  },
  {
   "cell_type": "markdown",
   "metadata": {},
   "source": [
    "<div class=\"exercise\"><b>Exercise</b></div>\n",
    "\n",
    "* Use `sklearn` to fit the training data using simple linear regression.\n",
    "* Use the model to make mpg predictions on the test set.  \n",
    "* Plot the data and the prediction.  \n",
    "* Print out the mean squared error for the training set and the test set and compare.\n",
    "\n",
    "**Hints:**\n",
    "* Use the following to perform the analysis:\n",
    "```python\n",
    "from sklearn.linear_model import LinearRegression\n",
    "from sklearn.model_selection import train_test_split\n",
    "from sklearn.metrics import mean_squared_error\n",
    "```"
   ]
  },
  {
   "cell_type": "code",
<<<<<<< HEAD
   "execution_count": 115,
=======
   "execution_count": 83,
>>>>>>> 3146e82765cbe3553c5d561769df449ac62ad15b
   "metadata": {},
   "outputs": [
    {
     "data": {
      "text/html": [
       "<div>\n",
       "<style scoped>\n",
       "    .dataframe tbody tr th:only-of-type {\n",
       "        vertical-align: middle;\n",
       "    }\n",
       "\n",
       "    .dataframe tbody tr th {\n",
       "        vertical-align: top;\n",
       "    }\n",
       "\n",
       "    .dataframe thead th {\n",
       "        text-align: right;\n",
       "    }\n",
       "</style>\n",
       "<table border=\"1\" class=\"dataframe\">\n",
       "  <thead>\n",
       "    <tr style=\"text-align: right;\">\n",
       "      <th></th>\n",
       "      <th>name</th>\n",
       "      <th>mpg</th>\n",
       "      <th>cyl</th>\n",
       "      <th>disp</th>\n",
       "      <th>hp</th>\n",
       "      <th>drat</th>\n",
       "      <th>wt</th>\n",
       "      <th>qsec</th>\n",
       "      <th>vs</th>\n",
       "      <th>am</th>\n",
       "      <th>gear</th>\n",
       "      <th>carb</th>\n",
       "    </tr>\n",
       "  </thead>\n",
       "  <tbody>\n",
       "    <tr>\n",
       "      <th>0</th>\n",
       "      <td>Mazda RX4</td>\n",
       "      <td>21.0</td>\n",
       "      <td>6</td>\n",
       "      <td>160.0</td>\n",
       "      <td>110</td>\n",
       "      <td>3.90</td>\n",
       "      <td>2.620</td>\n",
       "      <td>16.46</td>\n",
       "      <td>0</td>\n",
       "      <td>1</td>\n",
       "      <td>4</td>\n",
       "      <td>4</td>\n",
       "    </tr>\n",
       "    <tr>\n",
       "      <th>1</th>\n",
       "      <td>Mazda RX4 Wag</td>\n",
       "      <td>21.0</td>\n",
       "      <td>6</td>\n",
       "      <td>160.0</td>\n",
       "      <td>110</td>\n",
       "      <td>3.90</td>\n",
       "      <td>2.875</td>\n",
       "      <td>17.02</td>\n",
       "      <td>0</td>\n",
       "      <td>1</td>\n",
       "      <td>4</td>\n",
       "      <td>4</td>\n",
       "    </tr>\n",
       "    <tr>\n",
       "      <th>2</th>\n",
       "      <td>Datsun 710</td>\n",
       "      <td>22.8</td>\n",
       "      <td>4</td>\n",
       "      <td>108.0</td>\n",
       "      <td>93</td>\n",
       "      <td>3.85</td>\n",
       "      <td>2.320</td>\n",
       "      <td>18.61</td>\n",
       "      <td>1</td>\n",
       "      <td>1</td>\n",
       "      <td>4</td>\n",
       "      <td>1</td>\n",
       "    </tr>\n",
       "    <tr>\n",
       "      <th>3</th>\n",
       "      <td>Hornet 4 Drive</td>\n",
       "      <td>21.4</td>\n",
       "      <td>6</td>\n",
       "      <td>258.0</td>\n",
       "      <td>110</td>\n",
       "      <td>3.08</td>\n",
       "      <td>3.215</td>\n",
       "      <td>19.44</td>\n",
       "      <td>1</td>\n",
       "      <td>0</td>\n",
       "      <td>3</td>\n",
       "      <td>1</td>\n",
       "    </tr>\n",
       "    <tr>\n",
       "      <th>4</th>\n",
       "      <td>Hornet Sportabout</td>\n",
       "      <td>18.7</td>\n",
       "      <td>8</td>\n",
       "      <td>360.0</td>\n",
       "      <td>175</td>\n",
       "      <td>3.15</td>\n",
       "      <td>3.440</td>\n",
       "      <td>17.02</td>\n",
       "      <td>0</td>\n",
       "      <td>0</td>\n",
       "      <td>3</td>\n",
       "      <td>2</td>\n",
       "    </tr>\n",
       "  </tbody>\n",
       "</table>\n",
       "</div>"
      ],
      "text/plain": [
       "                name   mpg  cyl   disp   hp  drat     wt   qsec  vs  am  gear  carb\n",
       "0          Mazda RX4  21.0    6  160.0  110  3.90  2.620  16.46   0   1     4     4\n",
       "1      Mazda RX4 Wag  21.0    6  160.0  110  3.90  2.875  17.02   0   1     4     4\n",
       "2         Datsun 710  22.8    4  108.0   93  3.85  2.320  18.61   1   1     4     1\n",
       "3     Hornet 4 Drive  21.4    6  258.0  110  3.08  3.215  19.44   1   0     3     1\n",
       "4  Hornet Sportabout  18.7    8  360.0  175  3.15  3.440  17.02   0   0     3     2"
      ]
     },
<<<<<<< HEAD
     "execution_count": 115,
=======
     "execution_count": 83,
>>>>>>> 3146e82765cbe3553c5d561769df449ac62ad15b
     "metadata": {},
     "output_type": "execute_result"
    }
   ],
   "source": [
    "from sklearn.linear_model import LinearRegression\n",
    "from sklearn.model_selection import train_test_split\n",
    "from sklearn.metrics import mean_squared_error\n",
    "\n",
    "dfcars = pd.read_csv(\"data/mtcars.csv\")\n",
    "dfcars = dfcars.rename(columns={\"Unnamed: 0\":\"name\"})\n",
    "\n",
    "dfcars.head()"
   ]
  },
  {
   "cell_type": "code",
<<<<<<< HEAD
   "execution_count": 116,
=======
   "execution_count": 84,
>>>>>>> 3146e82765cbe3553c5d561769df449ac62ad15b
   "metadata": {},
   "outputs": [],
   "source": [
    "traindf, testdf = train_test_split(dfcars, test_size=0.2, random_state=42)\n",
    "\n",
    "y_train = np.array(traindf.mpg)\n",
    "X_train = np.array(traindf.wt)\n",
    "X_train = X_train.reshape(X_train.shape[0], 1)"
   ]
  },
  {
   "cell_type": "code",
<<<<<<< HEAD
   "execution_count": 117,
=======
   "execution_count": 85,
>>>>>>> 3146e82765cbe3553c5d561769df449ac62ad15b
   "metadata": {},
   "outputs": [
    {
     "name": "stdout",
     "output_type": "stream",
     "text": [
<<<<<<< HEAD
      "0.6879761857596272\n"
=======
      "0.68797618576\n"
>>>>>>> 3146e82765cbe3553c5d561769df449ac62ad15b
     ]
    }
   ],
   "source": [
    "y_test = np.array(testdf.mpg)\n",
    "X_test = np.array(testdf.wt)\n",
    "X_test = X_test.reshape(X_test.shape[0], 1)\n",
    "\n",
    "#create linear model\n",
    "regression = LinearRegression()\n",
    "\n",
    "#fit linear model\n",
    "regression.fit(X_train, y_train)\n",
    "\n",
    "predicted_y = regression.predict(X_test)\n",
    "\n",
    "r2 = regression.score(X_test, y_test)\n",
    "print(r2)"
   ]
  },
  {
   "cell_type": "code",
<<<<<<< HEAD
   "execution_count": 118,
=======
   "execution_count": 86,
>>>>>>> 3146e82765cbe3553c5d561769df449ac62ad15b
   "metadata": {},
   "outputs": [
    {
     "name": "stdout",
     "output_type": "stream",
     "text": [
<<<<<<< HEAD
      "0.7701379909791617\n",
      "12.475985659918837\n",
      "7.773697766387512\n",
      "Coefficients: \n",
      " -5.336941400557081 36.93731031351841\n"
=======
      "0.770137990979\n",
      "12.4759856599\n",
      "7.77369776639\n",
      "Coefficients: \n",
      " -5.33694140056 36.9373103135\n"
>>>>>>> 3146e82765cbe3553c5d561769df449ac62ad15b
     ]
    }
   ],
   "source": [
    "print(regression.score(X_train, y_train))\n",
    "\n",
    "print(mean_squared_error(predicted_y, y_test))\n",
    "print(mean_squared_error(y_train, regression.predict(X_train)))\n",
    "\n",
    "print('Coefficients: \\n', regression.coef_[0], regression.intercept_)"
   ]
  },
  {
   "cell_type": "code",
<<<<<<< HEAD
   "execution_count": 119,
=======
   "execution_count": 87,
>>>>>>> 3146e82765cbe3553c5d561769df449ac62ad15b
   "metadata": {},
   "outputs": [
    {
     "data": {
      "text/plain": [
<<<<<<< HEAD
       "[<matplotlib.lines.Line2D at 0x1c291ec470>]"
      ]
     },
     "execution_count": 119,
=======
       "[<matplotlib.lines.Line2D at 0x1c204522b0>]"
      ]
     },
     "execution_count": 87,
>>>>>>> 3146e82765cbe3553c5d561769df449ac62ad15b
     "metadata": {},
     "output_type": "execute_result"
    },
    {
     "data": {
<<<<<<< HEAD
      "image/png": "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\n",
      "text/plain": [
       "<Figure size 720x432 with 1 Axes>"
=======
      "image/png": "iVBORw0KGgoAAAANSUhEUgAAAmIAAAF3CAYAAAAGpSdTAAAABHNCSVQICAgIfAhkiAAAAAlwSFlzAAALEgAACxIB0t1+/AAAIABJREFUeJzt3XmczXX///Hn2zSyRIiEkouQJQ0mkVBSZMkgspOkvuoqZZ0wM2axjX3fScmSxJXLRXJxVVeRYeyMLaohZF9mmOX9+8Phpy7LYM58zpzzuN9uc5tzPnOWpz4+5tk578/rGGutAAAAkPGyOB0AAADAV1HEAAAAHEIRAwAAcAhFDAAAwCEUMQAAAIdQxAAAABxCEQMAAHAIRQwAAMAhbitixphsxpifjDGbjTHbjTEDXNvDjDHxxphNrq/67soAAADgyYy7JusbY4yknNbac8YYf0nfS3pfUj1J56y1w9zyxAAAAJnEPe56YHu54Z1zXfV3fd1R68ufP78tVqxYOiUDAABwnw0bNvxhrS2Qltu6rYhJkjHGT9IGSY9JGm+tXWeMeVnS340x7SXFSOpurT15s8cpVqyYYmJi3BkVAAAgXRhjDqb1tm5drG+tTbHWBkh6WFIVY0x5SRMlFZcUIOmwpOHXu68xposxJsYYE3Ps2DF3xgQAAHBEhpw1aa09JWm1pHrW2iOugpYqaaqkKje4zxRrbaC1NrBAgTS9ugcAAJCpuPOsyQLGmDyuy9klvShplzGm0DU3ayJpm7syAAAAeDJ3rhErJOlj1zqxLJIWWGuXGmM+McYE6PLC/QOS3nJjBgAAAI/lzrMmt0iqeJ3t7dz1nAAAAJkJk/UBAAAcQhEDAABwCEUMAADAIRQxAAAAh1DEAAAAHEIRAwAAcAhFDAAAeL3U1FQtXLhQCQkJTkf5E4oYAADwWtZaLV++XIGBgWrevLk+/fRTpyP9CUUMAAB4pR9//FHPP/+8Xn75ZZ08eVKffPKJOnXq5HSsP6GIAQAAr7Jt2zY1btxYzzzzjHbt2qVx48YpLi5Obdu2lZ+fn9Px/oQiBgAAvMKBAwfUoUMHVahQQWvWrFFUVJT27dund955R1mzZnU63nW580O/AQAA3O7IkSOKiorSpEmT5Ofnpx49eqh379564IEHnI52SxQxAACQKZ0+fVrDhw/XiBEjlJiYqE6dOikkJEQPP/yw09HSjCIGAAAylYSEBE2YMEEDBw7UiRMn1Lx5c0VERKh06dJOR7ttrBEDAACZQnJysqZPn65SpUqpR48eCgwMVExMjBYsWJApS5hEEQMAAB7OWquFCxeqfPny6ty5s4oUKaJ///vfWrFihSpXrux0vLtCEQMAAB7JWquVK1eqSpUqat68ufz8/PTll19enQ/mDShiAADA4/z000+qU6eOXnrpJR07dkyzZs3Sli1bFBQUJGOM0/HSDUUMAAB4jJ07d6pp06Z6+umntXXrVo0ePVpxcXHq0KGDxw1jTQ+cNQkAABz3yy+/KCwsTB9//LFy5syp8PBwdevWTbly5XI6mltRxAAAgGOOHTumQYMGafz48TLGqFu3bgoODlb+/PmdjpYhKGIAACDDnT17ViNGjNDw4cN1/vx5dezYUaGhoSpatKjT0TIURQwAAGSYixcvatKkSYqMjNQff/yhZs2aKSIiQmXKlHE6miNYrA8AANwuOTlZM2fOVKlSpdStWzcFBATop59+0sKFC322hEkUMQAA4EbWWn355ZeqUKGCOnXqpAcffFArV67UypUr9dRTTzkdz3EUMQAA4Bb//ve/VbVqVTVt2lSpqan64osvrs4Hw2UUMQAAkK5iYmL00ksv6YUXXtChQ4c0ffp0bdu2TU2bNvWqYazpgSIGAADSRVxcnFq0aKGnnnpKGzdu1PDhw7Vnzx516tRJ99zD+YHXw38VAABwV3777TcNGDBAM2fOVLZs2RQSEqLu3bsrd+7cTkfzeBQxAABwR44fP65BgwZp3LhxSk1N1bvvvquPPvpIDz74oNPRMg2KGAAAuC3nzp3TqFGjFB0drXPnzqldu3YKCwtTsWLFnI6W6VDEAABAmly6dElTpkxRRESEjh49qqCgIEVGRqpcuXJOR8u0KGIAAOCmUlJS9NlnnykkJEQHDhzQc889pyVLlqhq1apOR8v0OGsSAABcl7VWX331lQICAtS+fXvly5dPK1asuDofDHePIgYAAP7Ht99+q+rVq+uVV17RxYsXNX/+fK1fv14vvfQSs8DSEUUMAABctWnTJtWvX1+1atXSwYMHNXnyZG3fvl0tWrRQlizUhvTGf1EAAKC9e/eqVatWqlixotauXauhQ4dq79696tKli/z9/Z2O57VYrA8AgA87dOiQwsPDNX36dGXNmlV9+/ZVjx49lCdPHqej+QSKGAAAPujEiRMaMmSIxowZo5SUFL399tvq27evHnroIaej+RSKGAAAPuT8+fMaM2aMhgwZojNnzqhNmzYaMGCAihcv7nQ0n0QRAwDAB1y6dEnTpk1TeHi4jhw5ooYNGyoqKkoVKlRwOppPo4gBAODFUlNTNW/ePPXv31/79+9XjRo19MUXX6h69epOR4M4axIAAK9krdWyZctUqVIltWnTRrly5dKyZcv0n//8hxLmQShiAAB4me+//141a9ZUgwYNdO7cOX322WfauHGjXn75ZYaxehiKGAAAXmLLli1q1KiRatSoob1792rixInauXOnWrVqxTBWD8VeAQAgk9u/f7/atm2rgIAAff/99xo8eLD27dunt99+m2GsHo7F+gAAZFK///67IiIiNGXKFPn7+6t3797q1auX8ubN63Q0pBFFDACATObUqVOKjo7WqFGjdOnSJb355pvq37+/ChUq5HQ03Ca3FTFjTDZJ30q61/U8C621ocaYfJLmSyom6YCkFtbak+7KAQCAt7hw4YLGjRunwYMH6+TJk2rZsqUiIiL02GOPOR0Nd8ida8QuSqptrX1SUoCkesaYqpL6SFplrS0paZXrOgAAuIGkpCRNmTJFJUuWVO/evVWtWjXFxsZq7ty5lLBMzm1FzF52znXV3/VlJTWW9LFr+8eSgtyVAQCAzCw1NVXz589XuXLl9NZbb6lYsWL6z3/+o3/+858KCAhwOh7SgVvPmjTG+BljNkk6KmmltXadpILW2sOum/wuqaA7MwAAkNlYa7V8+XIFBgaqZcuWuvfee/WPf/zj6nwweA+3FjFrbYq1NkDSw5KqGGPK/+XnVpdfJfsfxpguxpgYY0zMsWPH3BkTAACP8eOPP+r555/Xyy+/rJMnT+qTTz7Rpk2b1KhRI4axeqEMmSNmrT0labWkepKOGGMKSZLr+9Eb3GeKtTbQWhtYoECBjIgJAIBjtm/frqCgID3zzDPauXOnxo4dq7i4OLVt21Z+fn5Ox4ObuK2IGWMKGGPyuC5nl/SipF2S/iGpg+tmHSQtcVcGAAA83YEDB9ShQwc98cQTWr16tSIiIrRv3z69++67ypo1q9Px4GbunCNWSNLHxhg/XS58C6y1S40xP0paYIx5Q9JBSS3cmAEAAI909OhRRUVFaeLEifLz81P37t3Vp08fPfDAA05HQwZyWxGz1m6RVPE6249LesFdzwsAgCc7ffq0hg8frhEjRigxMVGdOnVSSEiIHn74YaejwQFM1gcAIAMkJiZq/PjxGjRokI4fP64WLVooIiJCpUqVcjoaHMSHfgMA4EbJycmaPn26SpYsqR49eqhy5cqKiYnR/PnzKWGgiAEA4A7WWi1cuFDly5dX586dVbhwYa1atUorVqxQ5cqVnY4HD0ERAwAgnX3zzTeqUqWKmjdvrixZsujLL7/U2rVrVbt2baejwcNQxAAASCfr169XnTp19OKLL+ro0aOaOXOmtm7dqqCgIIax4rooYgAA3KWdO3eqWbNmqlKlirZs2aJRo0Zp9+7d6tixI8NYcVOcNQkAwB365ZdfNGDAAM2aNUs5c+bUgAED9MEHHyhXrlxOR0MmQREDAOA2HTt2TIMGDdL48eNljFG3bt0UHBys/PnzOx0NmQxFDACANDp79qxGjBihYcOG6cKFC+rYsaNCQ0NVtGhRp6Mhk6KIAQBwC4mJiZo0aZKioqL0xx9/qFmzZoqIiFCZMmWcjoZMjsX6AADcQEpKimbNmqXSpUvrgw8+UIUKFbRu3TotXLiQEoZ0QREDAOAvrLX68ssvVaFCBb3++ut68MEHtXLlSq1atUpVqlRxOh68CEUMAIBrrF69WtWqVVPTpk2VkpKihQsX6qefflKdOnWcjgYvRBEDAEDShg0bVLduXdWuXVvx8fGaNm2atm3bpmbNmjGMFW5DEQMA+LS4uDi1aNFCgYGB2rBhg4YPH649e/bojTfe0D33cE4b3Iu/YQAAn/Tbb78pPDxcM2bMULZs2dS/f391795d999/v9PR4EMoYgAAn3L8+HENHjxYY8eOVWpqqrp27ap+/frpwQcfdDoafBBFDADgE86dO6fRo0dr6NChOnv2rNq3b6+wsDAVK1bM6WjwYRQxAIBXu3TpkqZMmaKIiAgdPXpUjRs3VmRkpMqXL+90NIAiBgDwTikpKfrss88UEhKiAwcOqFatWlq8eLGqVavmdDTgKs6aBAB4FWutvvrqKwUEBKh9+/bKmzevli9ffnU+GOBJKGIAAK/x7bffqnr16nrllVd08eJFzZ8/XzExMapbty6zwOCRKGIAgExv06ZNql+/vmrVqqWDBw9qypQp2r59u1q0aKEsWfhVB8/F304AQKa1d+9etW7dWhUrVtTatWs1dOhQ7d27V2+++ab8/f2djgfcEov1AQCZzqFDhxQREaFp06Ypa9as+uijj9SzZ0/lyZPH6WjAbaGIAQAyjZMnT2ro0KEaPXq0kpOT9dZbb6lfv3566KGHnI4G3BGKGADA4124cEFjxozRkCFDdPr0abVp00YDBgxQ8eLFnY4G3BWKGADAYyUlJWnatGkKDw/X77//roYNGyoqKkoVKlRwOhqQLihiAACPk5qaqnnz5ikkJET79u3Ts88+q4ULF6p69epORwPSFWdNAgA8hrVWy5YtU6VKldSmTRvlzJlT//znP6/OBwO8DUUMAOAR/vvf/6pWrVpq0KCBzp49qzlz5ig2Nlb169dnGCu8FkUMAOCoLVu2qFGjRnr22We1Z88eTZgwQTt37lTr1q0Zxgqvx99wAIAj9u/fr7Zt2yogIEDff/+9Bg4cqL179+r//u//lDVrVqfjARmCxfoAgAz1+++/KyIiQlOmTJG/v7969+6tXr16KW/evE5HAzIcRQwAkCFOnTql6OhojRo1SpcuXVLnzp3Vv39/FS5c2OlogGMoYgAAt0pISNC4ceM0aNAgnTx5Uq1atVJ4eLgee+wxp6MBjmONGADALZKTkzV16lSVLFlSvXr1UtWqVRUbG6vPPvuMEga4UMQAAOkqNTVVCxYsUNmyZdWlSxcVLVpUa9as0bJlyxQQEOB0PMCjUMQAAOnCWqsVK1boqaee0muvvaZ7771XS5YsuTofDMD/oogBAO7a2rVrVbt2bdWrV08nTpzQ7NmztWnTJr3yyisMYwVugiIGALhj27dvV1BQkKpVq6YdO3Zo7NixiouLU7t27eTn5+d0PMDjUcQAALftwIED6tChg5544gmtXr1akZGR2rdvn959912GsQK3gfEVAIA0O3r0qKKiojRx4kRlyZJF3bt3V58+ffTAAw84HQ3IlChiAIBbOnPmjIYNG6YRI0YoMTFRr7/+ukJDQ/Xwww87HQ3I1ChiAIAbSkxM1IQJEzRw4EAdP35czZs3V0REhEqXLu10NMArsEYMAPA/kpOTNX36dJUsWVLdu3dX5cqVFRMTowULFlDCgHREEQMAXGWt1RdffKHy5curc+fOKly4sFatWqUVK1aocuXKTscDvA5vTQIAJEnffPONgoODFRMTozJlyujLL79U48aNmQOGu7Y4Nl7RK+J06FSCCufJrp51SyuoYhGnY3kEt70iZox5xBiz2hizwxiz3Rjzvmt7mDEm3hizyfVV310ZAAC3tn79etWpU0cvvviijh49qpkzZ2rr1q0KCgqihOGuLY6NV/CirYo/lSArKf5UgoIXbdXi2Hino3kEd741mSypu7W2rKSqkt4xxpR1/WyktTbA9bXMjRkAADewa9cuvfrqq6pSpYo2b96sUaNGaffu3erYsSPDWJFuolfEKSEp5U/bEpJSFL0izqFEnsVtb01aaw9LOuy6fNYYs1MSr0MCgMN++eUXDRgwQLNmzVKOHDk0YMAAffDBB8qVK5fT0eCFDp1KuK3tviZDFusbY4pJqihpnWvT340xW4wxM4wxeTMiAwD4uj/++EMffvihSpUqpU8//VTvvfee9u/fr5CQEEoY3KZwnuy3td3XuL2IGWPuk/SFpG7W2jOSJkoqLilAl18xG36D+3UxxsQYY2KOHTvm7pgA4LXOnj2r8PBwFS9eXKNHj1br1q21Z88ejRw5UgUKFHA6Hrxcz7qlld3/z291Z/f3U8+6jEGR3HzWpDHGX5dL2Bxr7SJJstYeuebnUyUtvd59rbVTJE2RpMDAQOvOnADgjS5evKhJkyYpKipKx44dU9OmTRUZGakyZco4HQ0+5MrZkZw1eX1uK2Lm8qk20yXttNaOuGZ7Idf6MUlqImmbuzIAgC9KSUnRJ598otDQUP3yyy+qXbu2Bg0apCpVqjgdDT4qqGIRitcNuPMVseqS2knaaozZ5Nr2kaRWxpgASVbSAUlvuTEDAPgMa60WL16sfv36aceOHapcubKmT5+uOnXqOB0NwA2486zJ7yVdbwAN4yoAIJ2tXr1affr00U8//aTSpUtr4cKFatq0KXPAAA/HRxwBQCa2YcMG1a1bV7Vr19ahQ4c0bdo0bdu2Tc2aNaOEAZkARQwAMqHdu3frtddeU2BgoGJiYjRs2DDt3r1bb7zxhu65h0+vAzILjlYAyER+++03hYeHa8aMGcqWLZv69++v7t276/7773c6GoA7QBEDgEzg+PHjGjx4sMaNG6eUlBS98847+uijj1SwYEGnowG4CxQxAPBg586d0+jRozV06FCdPXtW7du3V1hYmIoVK+Z0NADpgCIGAB7o0qVLmjJliiIjI3XkyBE1btxYkZGRKl++vNPRAKQjihgAeJCUlBTNnTtXISEh+vnnn1WrVi0tXrxYVatWdToaADfgrEkA8ADWWi1dulQVK1ZUu3btlCdPHi1fvlyrV6+mhAFejCIGAA777rvv9Oyzz6pRo0ZKTEzUvHnzFBMTo7p16zILDPByFDEAcMjmzZvVoEED1axZUwcOHNDkyZO1fft2vfbaa8qShX+eAV/AkQ4AGWzv3r1q3bq1AgIC9OOPP2ro0KHau3evunTpIn9/f6fjAchALNYHgAxy6NAhRUREaNq0acqaNav69u2rHj16KE+ePE5HA+AQihgAuNnJkyc1ZMgQjRkzRklJSXrrrbfUr18/PfTQQ05HA+AwihgAuMmFCxc0ZswYDRkyRKdPn1arVq0UHh6uEiVKOB0NgIe45RoxY8wTGREEALxFUlKSJk6cqMcee0zBwcF69tlntWnTJs2ZM4cSBuBP0rJYf4Ix5idjTFdjDJ8qCwA3kJqaqrlz56pMmTLq2rWrSpQooe+++05fffWVKlSo4HQ8AB7olkXMWltDUhtJj0jaYIz5zBjzotuTAUAmYa3VsmXLVKlSJbVu3Vo5c+bU0qVL9e233+rZZ591Oh4AD5am8RXW2j2S+knqLamWpDHGmF3GmKbuDAcAnu6///2vatWqpQYNGujs2bOaM2eOYmNj1aBBA4axAriltKwRq2CMGSlpp6TakhpZa8u4Lo90cz4A8Ehbt27VK6+8omeffVZ79uzR+PHjtXPnTrVu3ZphrADSLC1nTY6VNE3SR9bahCsbrbWHjDH93JYMADzQ/v37FRoaqjlz5ih37twaOHCg3nvvPeXMmdPpaAAyoVsWMWttrZv87JP0jQMAnunIkSOKjIzU5MmT5efnp169eqlXr17Kly+f09EAZGLMEQOAmzh9+rSio6M1atQoJSYmqnPnzgoJCVHhwoWdjgbAC1DEAOA6EhISNG7cOA0ePFgnTpxQy5YtFR4erpIlSzodDYAXYUUpAFwjOTlZU6dOVcmSJdWrVy89/fTT2rhxo+bOnUsJA5DubviKmDHmK0n2Rj+31r7ilkQA4IDU1FQtXLhQ/fr10549e1StWjXNmTNHtWrdcJksANy1m701Ocz1vamkhyR96rreStIRd4YC4DkWx8YrekWcDp1KUOE82dWzbmkFVSzidKx0Y63V119/reDgYMXGxqp8+fJasmSJGjVqxBwwAG53wyJmrf2PJBljhltrA6/50VfGmBi3JwPguMWx8QpetFUJSSmSpPhTCQpetFWSvKKMrV27VsHBwVqzZo2KFSum2bNnq3Xr1vLz83M6GgAfkZY1YjmNMcWvXDHG/E0SA3MAHxC9Iu5qCbsiISlF0SviHEqUPrZv366goCBVq1ZNO3bs0JgxY7Rr1y61a9eOEgYgQ6XlrMkPJK0xxuyXZCQ9Kuktt6YC4BEOnUq4re2e7sCBAwoLC9Ps2bOVK1cuRUREqFu3brrvvvucjgbAR6VloOtyY0xJSY+7Nu2y1l50bywAnqBwnuyKv07pKpwnuwNp7tzRo0c1cOBATZw4UcYYde/eXX369NEDDzzgdDQAPi4tnzWZQ1JPSe9aazdLKmqMaej2ZAAc17NuaWX3//Nbddn9/dSzbmmHEt2eM2fOKDQ0VCVKlNDYsWPVvn177d27V9HR0ZQwAB4hLW9NzpS0QVI11/V4SZ9LWuquUAA8w5UF+ZntrMnExERNmDBBAwcO1PHjx/Xqq68qIiJCjz/++K3vDAAZKC1FrIS19jVjTCtJstZeMJzTDfiMoIpFPL54XZGcnKzZs2crLCxMv/76q+rUqaNBgwYpMDDw1ncGAAek5azJS8aY7HINdzXGlJDEGjEAHsNaq0WLFumJJ57QG2+8oYceekjffPONVq5cSQkD4NHSUsTCJC2X9IgxZo6kVZJ6uzMUAKTVqlWr9PTTT6tZs2YyxmjRokVat26dXnjhBaejAcAtpeWsya+NMRskVdXl8RXvW2v/cHsyALiJ9evXKzg4WKtWrVLRokU1Y8YMtWvXTvfck5YVFwDgGdJy1uQqa+1xa+0/rbVLrbV/GGNWZUQ4APirXbt26dVXX1WVKlW0efNmjRo1Srt379brr79OCQOQ6dzsQ7+zScohKb8xJq8uvxomSbklZY6VuwC8xi+//KIBAwZo1qxZypEjh8LCwvThhx8qV65cTkcDgDt2s/99fEtSN0mFdXl8xZUidkbSODfnAgBJ0rFjxzRo0CBNmDBB1lq9//77Cg4OVoECBZyOBgB37WYf+j1a0mhjzN+ttWMzMBMA6OzZsxo5cqSGDRum8+fPq0OHDgoLC1PRokWdjgYA6SYtZ02mGmPyXLlijMlrjOnqxkwAfNjFixc1ZswYlShRQqGhoapTp462bdumGTNmUMIAeJ20FLE3rbWnrlyx1p6U9Kb7IgHwRSkpKfr4449VunRpvf/++ypfvrzWrl2rRYsWqUyZMk7HAwC3SEsR87t2kr4xxk9SVvdFAuBLrLVavHixnnzySXXs2FH58+fX119/fXU+GAB4s7QUseWS5htjXjDGvCBprmsbANyVNWvWqFq1amrSpImSkpK0YMECrV+/Xi+++KL4JDUAviAtQ3d66/IZlP/nur5S0jS3JQLg9TZu3KiPPvpIK1asUJEiRTRt2jR16NCBOWAAfE5aJuunSpro+gKAO7Z79271799fCxYsUL58+TRs2DB17dpV2bNndzoaADjiZgNdF1hrWxhjtsr1gd/XstZWcGsyAF4jPj5e4eHhmj59urJly6Z+/fqpR48euv/++52OBgCOutkrYu+7vjfMiCAAvM+JEyc0ePBgjR07VikpKeratav69u2rggULOh0NADzCzQa6HnZ9P5hxcQB4g/Pnz2vUqFGKjo7WmTNn1K5dO4WFhelvf/ub09HuyuLYeEWviNOhUwkqnCe7etYtraCKfOIbgDt3s7cmz+o6b0leYa3NfbMHNsY8Imm2pIKux5lirR1tjMknab6kYpIOSGrhmk0GIJO7dOmSpk6dqoiICB05ckSNGzdWZGSkypcv73S0u7Y4Nl7Bi7YqISlFkhR/KkHBi7ZKEmUMwB274fgKa20uV9kaLamPLn/Q98O6fBblqDQ8drKk7tbaspKqSnrHGFPW9VirrLUlJa1yXQeQiaWkpOjTTz/V448/rnfffVePP/64fvjhBy1evNgrSpgkRa+Iu1rCrkhISlH0ijiHEgHwBmmZI/aKtXaCtfastfaMtXaipMa3upO19rC1dqPr8llJO3W5zDWW9LHrZh9LCrqz6ACcZq3V0qVLVbFiRbVr10558uTR8uXLtXr1alWrVs3peOnq0KmE29oOAGmRliJ23hjTxhjjZ4zJYoxpI+n87TyJMaaYpIqS1kkqeGX9maTfdfmtSwCZzHfffacaNWqoUaNGSkhI0Lx58xQTE6O6det65TDWwnmuP2LjRtsBIC3SUsRaS2oh6Yjrq7lrW5oYY+6T9IWkbtbaM9f+zFprdYN1aMaYLsaYGGNMzLFjx9L6dADcbPPmzWrQoIFq1qyp/fv3a9KkSdqxY4dee+01ZcmSln9SMqeedUsru7/fn7Zl9/dTz7qlHUoEwBukZaDrAaXhrcjrMcb463IJm2OtXeTafMQYU8hae9gYU0jS0Rs87xRJUyQpMDDwhicNAMgY+/btU0hIiD777DPlyZNHgwcP1t///nflyJHD6WgZ4sqCfM6aBJCeblnEjDGldHmqfkFrbXljTAVdXjcWeYv7GUnTJe201o645kf/kNRB0mDX9yV3Gh6A+x0+fFgRERGaOnWq/P39FRwcrJ49eypv3rxOR8twQRWLULwApKu0vI8wVVKwpCRJstZukdQyDferLqmdpNrGmE2ur/q6XMBeNMbskVTHdR2Ahzl58qSCg4NVokQJTZ06VV26dNG+ffs0cOBAnyx2mCamAAAZqUlEQVRhAOAOafmE3RzW2p/+svg2+VZ3stZ+L+lGK3ZfSMPzAnDAhQsXNGbMGA0ZMkSnT59W69atNWDAAJUoUcLpaADgddJSxP4wxpSQa1G9MeZVSYdvfhcAmU1SUpKmT5+u8PBwHT58WA0aNFBUVJSefPJJp6MBgNdKSxF7R5cXzT9ujImX9LOkNm5NBSDDpKamav78+erfv7/27dun6tWra/78+apRo4bT0QDA6920iBljskgKtNbWMcbklJTFNZwVQCZnrdXy5csVHByszZs3q0KFClq6dKnq16/vlXPAAMAT3XSxvrU2VVIv1+XzlDDAO/zwww967rnnVL9+fZ09e1Zz5sxRbGysGjRoQAkDgAyUlrMmvzHG9DDGPGKMyXfly+3JAKS7rVu36pVXXlH16tW1e/dujR8/Xjt37lTr1q29ehgrAHiqtKwRe831/Z1rtllJxdM/DgB3+PnnnxUaGqpPP/1UuXPn1sCBA/Xee+8pZ86cTkcDAJ+Wlsn6f8uIIADS35EjRxQZGanJkyfLz89PvXr1Uq9evZQvHy9qA4AnSMtk/WySukp6VpdfCftO0iRrbaKbswG4Q6dPn1Z0dLRGjRqlxMREde7cWf3791eRIkyFBwBPkpa3JmdLOitprOt6a0mf6PKHfwPwIAkJCRo/frwGDRqkEydOqGXLlgoPD1fJkiX/dLvFsfF8ZiIAeIC0FLHy1tqy11xfbYzZ4a5AAG5fcnKyZs6cqQEDBig+Pl5169bVoEGDVLFixf+57eLYeAUv2qqEpBRJUvypBAUv2ipJlDEAyGBpOU1qozGm6pUrxpinJcW4LxKAtEpNTdXnn3+ucuXKqUuXLipatKjWrFmj5cuXX7eESVL0irirJeyKhKQURa+Iy4jIAIBrpOUVscqSfjDG/OK6XlRSnDFmqyRrra3gtnQArstaq5UrVyo4OFgbN25UuXLltGTJEjVq1OiWc8AOnUq4re0AAPdJSxGr5/YUANJs3bp1Cg4O1urVq1WsWDHNnj1brVu3lp+fX5ruXzhPdsVfp3QVzpM9vaMCAG7hlm9NWmsP3uwrI0ICkLZv364mTZqoatWq2r59u8aOHatdu3apXbt2aS5hktSzbmll9//z7bP7+6ln3dLpHRkAcAtpeUUMgIMOHjyo0NBQffLJJ7rvvvsUERGhbt266b777rujx7uyIJ+zJgHAeRQxwEMdPXpUAwcO1MSJE2WMUbdu3RQcHKz8+fPf9WMHVSxC8QIAD0ARg0dhvpV05swZjRgxQsOHD9eFCxfUqVMnhYSE6JFHHnE6GgAgnVHE4DF8fb5VYmKiJk6cqKioKB0/flyvvvqqIiIi9PjjjzsdDQDgJmmZIwZkCF+db5WcnKwZM2aoVKlS+vDDD1WpUiWtX79en3/+OSUMALwcRQwew9fmW1lrtWjRIj3xxBN64403VKhQIa1atUpff/21AgMDnY4HAMgAFDF4jBvNsfLG+VarVq3S008/rWbNmskYo0WLFmnt2rWqXbu209EAABmIIgaP4QvzrdavX68XX3xRderU0e+//66ZM2dq69atatKkyS0n4gMAvA9FDB4jqGIRDWr6hIrkyS4jqUie7BrU9AmvWKi/a9cuNW/eXFWqVNGmTZs0cuRI7d69Wx07drytYawAAO/CWZPwKN423+rXX3/VgAEDNHPmTOXIkUOhoaH68MMPlTt3bqejAQA8AEUMcIM//vhDgwcP1rhx42St1XvvvaePPvpIBQoUcDoaAMCDUMSAdHTu3DmNHDlS0dHROn/+vDp06KDQ0FA9+uijTkcDAHggihiQDi5evKjJkycrMjJSx44dU5MmTRQZGamyZcs6HQ0A4MFYrA/chZSUFH388ccqXbq03n//fZUvX15r167VokWLKGEAgFuiiAF3wFqrJUuWqEKFCurYsaMeeOABff3111fngwEAkBYUMeA2rVmzRs8884yCgoKUnJysBQsWXJ0PxiwwAMDtoIgBabRx40bVq1dPzz//vH799VdNnTpV27dvV/PmzZUlC4cSAOD28dsDuIXdu3frtddeU+XKlbV+/XpFR0drz5496ty5s+65h/NdAAB3jt8iwA3Ex8crPDxc06dPV7Zs2dSvXz/16NFD999/v9PRAABegiIG/MWJEyc0ePBgjR07VikpKeratav69u2rggULOh0t3SyOjVf0ijgdOpWgwnmyq2fd0l71iQYAkFlQxACX8+fPa/To0Ro6dKjOnDmjtm3bKjw8XMWKFXM6WrpaHBuv4EVblZCUIkmKP5Wg4EVbJYkyBgAZjDVi8HmXLl3ShAkTVKJECfXt21e1atXSli1bNHv2bK8rYZIUvSLuagm7IiEpRdEr4hxKBAC+i1fE4LNSU1M1d+5chYSEaP/+/apZs6a+/PJLVatWzelobnXoVMJtbQcAuA+viMHnWGu1dOlSBQQEqG3btsqdO7eWLVumNWvWeH0Jk6TCebLf1nYAgPtQxOBTvvvuO9WoUUONGjVSQkKC5s6dqw0bNujll1/2mWGsPeuWVnZ/vz9ty+7vp551SzuUCAB8F0UMPmHz5s1q0KCBatasqf3792vSpEnasWOHWrZs6XPDWIMqFtGgpk+oSJ7sMpKK5MmuQU2fYKE+ADiANWLwanv37lVISIjmzp2rPHnyaMiQIXr33XeVI0cOp6M5KqhiEYoXAHgAihi80uHDhxUREaGpU6fK399fwcHB6tmzp/Lmzet0NAAArqKIwaucOnVKQ4cO1ahRo5SUlKQ333xT/fv3V6FChZyOBgDA/6CIwStcuHBB48aN0+DBg3Xq1Cm1atVK4eHhKlGihNPRAAC4Id9apQyvk5SUpMmTJ+uxxx5T79699cwzzyg2NlZz5syhhAEAPB5FDJlSamqq5s2bp7Jly+rtt99W8eLF9e2332rp0qV68sknnY4HAECaUMSQqVhr9a9//UuVK1dWq1atlD17di1duvTqfDAAADITihgyjR9++EHPPfec6tevr9OnT+vTTz/Vpk2b1KBBA58ZxgoA8C5uK2LGmBnGmKPGmG3XbAszxsQbYza5vuq76/nhPbZt26bGjRurevXqiouL07hx47Rr1y61adPG54axAgC8izt/i82SVO8620daawNcX8vc+PzI5H7++We1b99eFSpU0Jo1axQVFaV9+/bpnXfeUdasWZ2OBwDAXXPb+Apr7bfGmGLuenx4ryNHjigyMlKTJ0+Wn5+fevTooT59+ihfvnxORwMAIF05MUfs78aY9pJiJHW31p50IAM80OnTpxUdHa1Ro0YpMTFRnTt3Vv/+/VWkCB/FAwDwThm9wGaipOKSAiQdljT8Rjc0xnQxxsQYY2KOHTuWUfnggISEBA0bNkzFixdXVFSUGjZsqJ07d2rSpEmUMACAV8vQImatPWKtTbHWpkqaKqnKTW47xVobaK0NLFCgQMaFRIZJTk7W1KlTVbJkSfXs2VNVqlTRhg0bNG/ePJUsWdLpeAAAuF2GFjFjzLUf+NdE0rYb3RbeKzU1VZ9//rnKlSunLl26qGjRolqzZo3+9a9/qVKlSk7HAwAgw7htjZgxZq6k5yTlN8b8JilU0nPGmABJVtIBSW+56/nheay1WrlypYKDg7Vx40aVK1dOS5YsUaNGjZgDBgDwSe48a7LVdTZPd9fzwbOtW7dOwcHBWr16tR599FHNmjVLbdu2lZ+fn9PRAABwDNMw4VY7duxQ06ZNVbVqVW3btk1jxoxRXFycOnToQAkDAPg8J8ZXwAccPHhQYWFhmj17tnLmzKnw8HB169ZNuXLlcjoaAAAegyKGdHX06FENHDhQEydOlDFGH3zwgfr06aP8+fM7HQ0AAI9DEUO6OHPmjEaMGKHhw4frwoULev311xUaGqpHHnnE6WgAAHgsihjuSmJioiZOnKioqCgdP35czZo1U2RkpB5//HGnowEA4PFYrI87kpycrJkzZ6pUqVL68MMPVbFiRf30009auHAhJQwAgDSiiOG2WGu1aNEiVahQQZ06ddJDDz2kb775RitXrtRTTz3ldDwAADIVihjS7N///reqVq2qZs2ayVqrhQsXat26dXrhhRecjgYAQKZEEcMtxcTE6KWXXtILL7ygw4cPa8aMGdq6dauaNWvGRHwAAO4CRQw3tGvXLr366qt66qmnFBsbqxEjRmj37t16/fXXdc89nOcBAMDd4rcp/sevv/6qAQMGaObMmcqRI4dCQ0P14YcfKnfu3E5HAwDAq1DEcNXx48c1aNAgjRs3TtZavffee/roo49UoEABp6MBAOCVKGLQuXPnNHLkSA0bNkznzp1T+/btFRYWpkcffdTpaAAAeDWKmA+7ePGiJk+erKioKB09elRNmjRRZGSkypYt63Q0AAB8AkXMB6WkpGjOnDkKCQnRwYMH9fzzz+sf//iHnn76aaejAQDgUzhr0odYa7VkyRI9+eST6tChg/Lnz68VK1Zo1apVlDAAABxAEfMRa9as0TPPPKOgoCAlJSXp888/1/r16/XSSy8xCwwAAIdQxLxcbGys6tWrp+eff16//vqrpkyZou3bt+vVV1+lgAEA4DCKmJfas2ePWrZsqUqVKmn9+vUaNmyY9uzZozfffJNhrAAAeAh+I3uZ+Ph4hYeHa/r06br33nvVt29f9ezZU/fff7/T0QAAwF9QxLzEiRMnNGTIEI0ZM0YpKSnq2rWr+vbtq4IFCzodDQAA3ABFLJM7f/68Ro8eraFDh+rMmTNq27atBgwYoL/97W9ORwMAALdAEcukLl26pGnTpikiIkK///67GjVqpKioKD3xxBNORwMAAGlEEctkUlNTNXfuXIWEhGj//v2qWbOmvvjiCz3zzDNORwMAALeJsyYzCWut/vnPf6pixYpq27atcufOrX/9619X54MBAIDMhyKWCXz//feqWbOmGjZsqAsXLmju3LnasGGD6tWrxywwAAAyMYqYB9u8ebMaNmyoGjVqaN++fZo0aZJ27Nihli1bKksWdh0AAJkdv8090L59+9SmTRtVrFhR//3vfzV48GDt3btXb731lvz9/Z2OBwAA0gmL9T3I4cOHFRERoalTp8rf3199+vRRz549lTdvXqejAQAAN6CIeYBTp05p6NChGjVqlJKSkvTmm2+qf//+KlSokNPRAACAG1HEHHThwgWNGzdOgwcP1smTJ9W6dWuFh4erRIkSTkcDAAAZgDViDkhKStLkyZP12GOPqXfv3qpatapiY2M1Z84cShgAAD6EIpaBUlNTNW/ePJUtW1Zvv/22ihcvrm+//VbLli1TQECA0/EAAEAGo4hlAGutli9frsDAQLVq1UrZs2fXV199pe+++041atRwOh4AAHAIRczNfvjhBz333HN6+eWXderUKX3yySeKjY1Vw4YNGcYKAICPo4i5ybZt29S4cWNVr15dcXFxGjdunHbt2qW2bdvKz8/P6XgAAMADUMTS2c8//6z27durQoUKWrNmjaKiorRv3z698847ypo1q9PxAACAB2F8RTo5cuSIoqKiNGnSJPn5+alnz57q3bu38uXL53Q0AADgoShid+n06dMaNmyYRo4cqcTERL3xxhsKCQlRkSJFnI4GAAA8HEXsDiUkJGj8+PEaNGiQTpw4oddee03h4eEqVaqU09EAAEAmwRqx25ScnKxp06apZMmS6tmzp5566ilt2LBB8+bNo4QBAIDbQhFLo9TUVH3++ecqV66c3nzzTT3yyCNavXq1li9frkqVKjkdDwAAZEIUsVuw1urrr79WlSpV1KJFC91zzz1avHjx1flgAAAAd4oidhPr1q3TCy+8oLp16+qPP/7QrFmztGXLFjVu3JhhrAAA4K5RxK5jx44datq0qapWrapt27Zp9OjRiouLU4cOHRjGCgAA0g1nTV7j4MGDCgsL0+zZs5UzZ06Fh4erW7duypUrl9PRAACAF6KISTp27JgGDhyoCRMmyBijbt26KTg4WPnz53c6GgAA8GIUMUnTpk3TmDFj9Prrrys0NFSPPPKI05EAAIAPMNZa9zywMTMkNZR01Fpb3rUtn6T5kopJOiCphbX25K0eKzAw0MbExLglpySdP39ev/zyi8qUKeO25wAAAL7BGLPBWhuYltu6c7H+LEn1/rKtj6RV1tqSkla5rjsuZ86clDAAAJDh3FbErLXfSjrxl82NJX3suvyxpCB3PT8AAICny+jxFQWttYddl3+XVDCDnx8AAMBjODZHzF5enHbDBWrGmC7GmBhjTMyxY8cyMBkAAEDGyOgidsQYU0iSXN+P3uiG1top1tpAa21ggQIFMiwgAABARsnoIvYPSR1clztIWpLBzw8AAOAx3FbEjDFzJf0oqbQx5jdjzBuSBkt60RizR1Id13UAAACf5LaBrtbaVjf40Qvuek4AAIDMhA/9BgAAcAhFDAAAwCEUMQAAAIdQxAAAABxCEQMAAHAIRQwAAMAhFDEAAACHUMQAAAAcQhEDAABwCEUMAADAIRQxAAAAh1DEAAAAHEIRAwAAcAhFDAAAwCEUMQAAAIfc43QApy2OjVf0ijgdOpWgwnmyq2fd0gqqWMTpWAAAwAf4dBFbHBuv4EVblZCUIkmKP5Wg4EVbJYkyBgAA3M6n35qMXhF3tYRdkZCUougVcQ4lAgAAvsSni9ihUwm3tR0AACA9+XQRK5wn+21tBwAASE8+XcR61i2t7P5+f9qW3d9PPeuWdigRAADwJT69WP/KgnzOmgQAAE7w6SImXS5jFC8AAOAEn35rEgAAwEkUMQAAAIdQxAAAABxCEQMAAHAIRQwAAMAhFDEAAACHUMQAAAAcQhEDAABwCEUMAADAIRQxAAAAhxhrrdMZbskYc0zSwbt8mPyS/kiHOMgY7K/Mhf2VebCvMhf2V+ZyZX89aq0tkJY7ZIoilh6MMTHW2kCncyBt2F+ZC/sr82BfZS7sr8zlTvYXb00CAAA4hCIGAADgEF8qYlOcDoDbwv7KXNhfmQf7KnNhf2Uut72/fGaNGAAAgKfxpVfEAAAAPIrXFTFjzAxjzFFjzLZrtuUzxqw0xuxxfc/rZEb8fzfYX2HGmHhjzCbXV30nM+L/M8Y8YoxZbYzZYYzZbox537WdY8wD3WR/cYx5IGNMNmPMT8aYza79NcC1nePLA91kf93W8eV1b00aY2pKOidptrW2vGvbUEknrLWDjTF9JOW11vZ2Micuu8H+CpN0zlo7zMls+F/GmEKSCllrNxpjcknaIClIUkdxjHmcm+yvFuIY8zjGGCMpp7X2nDHGX9L3kt6X1FQcXx7nJvurnm7j+PK6V8Sstd9KOvGXzY0lfey6/LEu/0MED3CD/QUPZa09bK3d6Lp8VtJOSUXEMeaRbrK/4IHsZedcV/1dX1YcXx7pJvvrtnhdEbuBgtbaw67Lv0sq6GQYpMnfjTFbXG9d8jK8BzLGFJNUUdI6cYx5vL/sL4ljzCMZY/yMMZskHZW00lrL8eXBbrC/pNs4vnyliF1lL78X613vx3qfiZKKSwqQdFjScGfj4K+MMfdJ+kJSN2vtmWt/xjHmea6zvzjGPJS1NsVaGyDpYUlVjDHl//Jzji8PcoP9dVvHl68UsSOutRJX1kwcdTgPbsJae8T1lztV0lRJVZzOhP/PtRbiC0lzrLWLXJs5xjzU9fYXx5jns9aekrRal9cbcXx5uGv31+0eX75SxP4hqYPrcgdJSxzMglu48g+OSxNJ2250W2Qs1+LU6ZJ2WmtHXPMjjjEPdKP9xTHmmYwxBYwxeVyXs0t6UdIucXx5pBvtr9s9vrzxrMm5kp7T5U9APyIpVNJiSQskFZV0UFILay0LxD3ADfbXc7r8kq6VdEDSW9esj4CDjDHPSvpO0lZJqa7NH+nyuiOOMQ9zk/3VShxjHscYU0GXF+P76fILJQusteHGmAfE8eVxbrK/PtFtHF9eV8QAAAAyC195axIAAMDjUMQAAAAcQhEDAABwCEUMAADAIRQxAAAAh1DEAHgtY8xzxphn7vIxzt36VgBwZyhiALzZc5LuqogBgDtRxABkKsaYxcaYDcaY7caYLtdsr2eM2WiM2WyMWeX6kOu3JX1gjNlkjKlhjJlljHn1mvucc32/z3WfjcaYrcaYxrfIEG6M6XbN9ShjzPvp/WcF4P0Y6AogUzHG5LPWnnB9pMh6SbV0+X8qN0qqaa39+ZrbhEk6Z60d5rrvLElLrbULXdfPWWvvM8bcIymHtfaMMSa/pLWSSlpr7ZXb/CVDMUmLrLWVjDFZJO2RVMVaezwD/hMA8CL3OB0AAG7Te8aYJq7Lj0gqKamApG+ttT9L0h18/IuRNNAYU1OXPwqoiKSCkn6/3o2ttQeMMceNMRVdt4ulhAG4ExQxAJmGMeY5SXUkVbPWXjDGrJGU7TYeIlmuJRmuV7Kyura30eUyV9lam2SMOZCGx50mqaOkhyTNuI0MAHAVa8QAZCb3SzrpKmGPS6rq2r5WUk1jzN+ky29furaflZTrmvsfkFTZdfkVSf7XPO5RVwl7XtKjacjypaR6kp6StOLO/jgAfB1FDEBmslzSPcaYnZIG63IBk7X2mKQukhYZYzZLmu+6/VeSmlxZrC9pqqRarttUk3Tedbs5kgKNMVsltZe061ZBrLWXJK2WtMBam5Jef0AAvoXF+gBwB1xvbW6U1Nxau8fpPAAyJ14RA4DbZIwpK2mvpFWUMAB3g1fEAAAAHMIrYgAAAA6hiAEAADiEIgYAAOAQihgAAIBDKGIAAAAOoYgBAAA45P8BAx0mESGsBzwAAAAASUVORK5CYII=\n",
      "text/plain": [
       "<matplotlib.figure.Figure at 0x1c1fb46b00>"
>>>>>>> 3146e82765cbe3553c5d561769df449ac62ad15b
      ]
     },
     "metadata": {},
     "output_type": "display_data"
    },
    {
     "data": {
<<<<<<< HEAD
      "image/png": "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\n",
      "text/plain": [
       "<Figure size 720x432 with 1 Axes>"
=======
      "image/png": "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\n",
      "text/plain": [
       "<matplotlib.figure.Figure at 0x1c1fbf4908>"
>>>>>>> 3146e82765cbe3553c5d561769df449ac62ad15b
      ]
     },
     "metadata": {},
     "output_type": "display_data"
    }
   ],
   "source": [
    "fig, ax = plt.subplots(1,1, figsize=(10,6))\n",
    "ax.plot(y_test, predicted_y, 'o')\n",
    "grid = np.linspace(np.min(dfcars.mpg), np.max(dfcars.mpg), 100)\n",
    "ax.plot(grid, grid, color=\"black\") # 45 degree line\n",
    "ax.set_xlabel(\"actual y\")\n",
    "ax.set_ylabel(\"predicted y\")\n",
    "\n",
    "fig1, ax1 = plt.subplots(1,1, figsize=(10,6))\n",
    "ax1.plot(dfcars.wt, dfcars.mpg, 'o')\n",
    "xgrid = np.linspace(np.min(dfcars.wt), np.max(dfcars.wt), 100)\n",
    "ax1.plot(xgrid, regression.predict(xgrid.reshape(100, 1)))"
   ]
  },
  {
   "cell_type": "markdown",
   "metadata": {},
   "source": [
    "## $k$-nearest neighbors"
   ]
  },
  {
   "cell_type": "markdown",
   "metadata": {},
   "source": [
    "Great, so we did a simple linear regression on the car data.\n",
    "\n",
    "Now that you're familiar with `sklearn`, you're ready to do a KNN regression.  Let's use $5$ nearest neighbors."
   ]
  },
  {
   "cell_type": "code",
   "execution_count": 120,
   "metadata": {},
   "outputs": [],
   "source": [
    "from sklearn.neighbors import KNeighborsRegressor\n",
    "knnreg = KNeighborsRegressor(n_neighbors=5)"
   ]
  },
  {
   "cell_type": "code",
   "execution_count": 121,
   "metadata": {},
   "outputs": [
    {
     "data": {
      "text/plain": [
       "0.6992188728167332"
      ]
     },
     "execution_count": 121,
     "metadata": {},
     "output_type": "execute_result"
    }
   ],
   "source": [
    "knnreg.fit(X_train, y_train)\n",
    "r2 = knnreg.score(X_test, y_test)\n",
    "r2"
   ]
  },
  {
   "cell_type": "markdown",
   "metadata": {},
   "source": [
    "<div class=\"exercise\"><b>Exercise</b></div>\n",
    "What is the $R^{2}$ score on the training set?"
   ]
  },
  {
   "cell_type": "code",
   "execution_count": null,
   "metadata": {},
   "outputs": [],
   "source": [
    "# Your code here"
   ]
  },
  {
   "cell_type": "code",
   "execution_count": 122,
   "metadata": {},
   "outputs": [
    {
     "data": {
      "text/plain": [
       "0.8718092469742431"
      ]
     },
     "execution_count": 122,
     "metadata": {},
     "output_type": "execute_result"
    }
   ],
   "source": [
    "# solution\n",
    "knnreg.score(X_train, y_train)"
   ]
  },
  {
   "cell_type": "markdown",
   "metadata": {},
   "source": [
    "Lets vary the number of neighbors and see what we get."
   ]
  },
  {
   "cell_type": "code",
   "execution_count": 123,
   "metadata": {},
   "outputs": [],
   "source": [
    "regdict = {}\n",
    "# Do a bunch of KNN regressions\n",
    "for k in [1, 2, 4, 6, 8, 10, 15]:\n",
    "    knnreg = KNeighborsRegressor(n_neighbors=k)\n",
    "    knnreg.fit(X_train, y_train)\n",
    "    regdict[k] = knnreg # Store the regressors in a dictionary"
   ]
  },
  {
   "cell_type": "code",
   "execution_count": 124,
   "metadata": {},
   "outputs": [
    {
     "data": {
      "image/png": "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\n",
      "text/plain": [
       "<Figure size 720x432 with 1 Axes>"
      ]
     },
     "metadata": {},
     "output_type": "display_data"
    }
   ],
   "source": [
    "# Now let's plot it all\n",
    "fig, ax = plt.subplots(1,1, figsize=(10,6))\n",
    "\n",
    "ax.plot(dfcars.wt, dfcars.mpg, 'o', label=\"data\")\n",
    "\n",
    "xgrid = np.linspace(np.min(dfcars.wt), np.max(dfcars.wt), 100)\n",
    "for k in [1, 2, 6, 10, 15]:\n",
    "    predictions = regdict[k].predict(xgrid.reshape(100,1))\n",
    "    if k in [1, 6, 15]:\n",
    "        ax.plot(xgrid, predictions, label=\"{}-NN\".format(k))\n",
    "\n",
    "ax.legend();"
   ]
  },
  {
   "cell_type": "markdown",
   "metadata": {},
   "source": [
    "Notice how the $1$-NN goes through every point on the training set but utterly fails elsewhere. Lets look at the scores on the training set."
   ]
  },
  {
   "cell_type": "code",
   "execution_count": 125,
   "metadata": {},
   "outputs": [
    {
     "data": {
      "text/plain": [
       "Text(0,0.5,'$R^{2}$')"
      ]
     },
     "execution_count": 125,
     "metadata": {},
     "output_type": "execute_result"
    },
    {
     "data": {
      "image/png": "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\n",
      "text/plain": [
       "<Figure size 864x576 with 1 Axes>"
      ]
     },
     "metadata": {},
     "output_type": "display_data"
    }
   ],
   "source": [
    "ks = range(1, 15) # Grid of k's\n",
    "scores_train = [] # R2 scores\n",
    "for k in ks:\n",
    "    knnreg = KNeighborsRegressor(n_neighbors=k) # Create KNN model\n",
    "    knnreg.fit(X_train, y_train) # Fit the model to training data\n",
    "    score_train = knnreg.score(X_train, y_train) # Calculate R^2 score\n",
    "    scores_train.append(score_train)\n",
    "\n",
    "# Plot\n",
    "fig, ax = plt.subplots(1,1, figsize=(12,8))\n",
    "ax.plot(ks, scores_train,'o-')\n",
    "ax.set_xlabel(r'$k$')\n",
    "ax.set_ylabel(r'$R^{2}$')"
   ]
  },
  {
   "cell_type": "markdown",
   "metadata": {},
   "source": [
    "Why do we get a perfect $R^2$ at k=1?"
   ]
  },
  {
   "cell_type": "markdown",
   "metadata": {},
   "source": [
    "<div class=\"exercise\"><b>Exercise (5 min)</b></div>\n",
    "* Make the same plot as above on the *test* set.\n",
    "* What is the best $k$?"
   ]
  },
  {
   "cell_type": "code",
   "execution_count": null,
   "metadata": {},
   "outputs": [],
   "source": [
    "# Your code here"
   ]
  },
  {
   "cell_type": "code",
   "execution_count": null,
   "metadata": {
    "scrolled": false
   },
   "outputs": [],
   "source": [
    "# %load solutions/knn_regression.py"
   ]
  }
 ],
 "metadata": {
  "anaconda-cloud": {},
  "kernelspec": {
   "display_name": "Python 3",
   "language": "python",
   "name": "python3"
  },
  "language_info": {
   "codemirror_mode": {
    "name": "ipython",
    "version": 3
   },
   "file_extension": ".py",
   "mimetype": "text/x-python",
   "name": "python",
   "nbconvert_exporter": "python",
   "pygments_lexer": "ipython3",
   "version": "3.6.5"
  }
 },
 "nbformat": 4,
 "nbformat_minor": 1
}
